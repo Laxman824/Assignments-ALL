{
  "nbformat": 4,
  "nbformat_minor": 0,
  "metadata": {
    "colab": {
      "provenance": [],
      "collapsed_sections": []
    },
    "kernelspec": {
      "name": "python3",
      "display_name": "Python 3"
    },
    "language_info": {
      "name": "python"
    }
  },
  "cells": [
    {
      "cell_type": "code",
      "execution_count": 7,
      "metadata": {
        "colab": {
          "base_uri": "https://localhost:8080/"
        },
        "id": "N657cjsc2TAH",
        "outputId": "176d0741-dfe5-430d-aae5-0624d8c0c903"
      },
      "outputs": [
        {
          "output_type": "stream",
          "name": "stdout",
          "text": [
            "TSP computation of path starts here \n",
            "[4, 5, 0, 3, 2, 1]\n",
            "2100\n",
            "[1, 4, 3, 2, 5, 0]\n",
            "1850\n",
            "[3, 2, 1, 0, 4, 5]\n",
            "1550\n",
            "[0, 5, 1, 2, 3, 4]\n",
            "1550\n",
            "[3, 2, 1, 0, 5, 4]\n",
            "1000\n",
            "[4, 2, 3, 1, 0, 5]\n",
            "1750\n",
            "[4, 0, 5, 1, 2, 3]\n",
            "1550\n",
            "[5, 0, 1, 3, 2, 4]\n",
            "1750\n",
            "[3, 5, 0, 1, 2, 4]\n",
            "1300\n",
            "[3, 2, 4, 5, 0, 1]\n",
            "1750\n",
            "[0, 1, 5, 4, 3, 2]\n",
            "1400\n",
            "[2, 1, 0, 5, 4, 3]\n",
            "1000\n",
            "[4, 3, 2, 1, 0, 5]\n",
            "1000\n",
            "[1, 5, 0, 4, 3, 2]\n",
            "1550\n",
            "[4, 5, 0, 1, 3, 2]\n",
            "1750\n",
            "[0, 1, 4, 3, 2, 5]\n",
            "1850\n",
            "[5, 0, 1, 2, 3, 4]\n",
            "1000\n",
            "[3, 2, 1, 4, 5, 0]\n",
            "2100\n",
            "[2, 5, 0, 1, 4, 3]\n",
            "1850\n",
            "[0, 5, 4, 3, 1, 2]\n",
            "1850\n",
            "The best solution found is :\n",
            "[3, 4, 5, 0, 1, 2]\n",
            "1000\n"
          ]
        }
      ],
      "source": [
        "\n",
        "import numpy as np\n",
        "def TSP_SA(G):                             #here G is the matrix of the input graph \n",
        "   soln = list(range(len(G)))\n",
        "   c = cost(G, soln)\n",
        "   ntrial = 1                             #starting with trail =1\n",
        "   T = 30                                 #setting the temparature \n",
        "   alpha = 0.99                           #rate of which temparature should decrease  \n",
        "   while ntrial <= 1000:                  #number of iterations till 1000\n",
        "      n = np.random.randint(0, len(G))    #initially taking  a random b\\w\n",
        "      while True:                         #m,n are the initial randomly choosen positions \n",
        "         m = np.random.randint(0, len(G))\n",
        "         if n != m:                       #takig other m which is not equal to previously taken vertex\n",
        "            break\n",
        "      s1 = swap(soln, m, n)                  #swap two vertexes to get explore \n",
        "      c1 = cost(G, s1)                    #finding the cost of the \n",
        "      if(ntrial%50 == 0):\n",
        "        print(s1)\n",
        "        print(c1)\n",
        "      if c1 < c:                          # comparing the cost of c1(current cost) with previous \n",
        "         soln, c = s1, c1                    # if it is better replace the best with current\n",
        "      else:\n",
        "         if np.random.rand() < np.exp(-(c1 - c)/T):  #allow but if it satisfies acceptance probability\n",
        "            soln, c = s1, c1                 #exp()\n",
        "      T = alpha*T                         #if it doesnt satisfy just decrease the temp with alpha and increase the iteration &repeat\n",
        "      ntrial += 1\n",
        "  #  print(\"The Tsp path computed with simulated annealing \")\n",
        "   print(\"The best solution found is :\")\n",
        "   print(soln)\n",
        "\n",
        "   print(c)\n",
        "def swap(soln, m, n):\n",
        "   i, j = min(m, n), max(m, n)\n",
        "   s1 = soln.copy()\n",
        "   while i < j:\n",
        "      s1[i], s1[j] = s1[j], s1[i]\n",
        "      i += 1\n",
        "      j -= 1\n",
        "   return s1\n",
        "  \n",
        "def cost(G, soln):\n",
        "   l = 0\n",
        "   for i in range(len(soln)-1):\n",
        "      l += G[soln[i]][soln[i+1]]\n",
        "   l += G[soln[len(soln)-1]][soln[0]] \n",
        "   return l\n",
        "def main():\n",
        "  print(\"TSP computation of path starts here \")\n",
        "  G = [\n",
        "        [0, 200, 500, 650, 600, 150],\n",
        "        [200, 0, 250, 700, 750, 300],\n",
        "        [500, 250, 0, 150, 400, 500],\n",
        "        [650, 700, 150, 0, 100, 200],\n",
        "        [600, 750, 400, 100, 0, 150],\n",
        "        [150, 300, 500, 200, 150, 0]]\n",
        "\n",
        "  TSP_SA(G)\n",
        "\n",
        "\n",
        "if __name__ == \"__main__\":\n",
        "  main()\n"
      ]
    },
    {
      "cell_type": "code",
      "source": [],
      "metadata": {
        "id": "Cl6VSGaj2d0q"
      },
      "execution_count": null,
      "outputs": []
    }
  ]
}