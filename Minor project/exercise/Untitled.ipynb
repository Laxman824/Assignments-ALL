{
 "cells": [
  {
   "cell_type": "code",
   "execution_count": 6,
   "metadata": {},
   "outputs": [
    {
     "name": "stdout",
     "output_type": "stream",
     "text": [
      "86 Number of True statements(chnace of accepting the next step)\n",
      "914 Number of False statements (chance of rejecting the next step)\n"
     ]
    }
   ],
   "source": [
    "import random\n",
    "\n",
    "count =0\n",
    "count1 =0\n",
    "for i in range(1000):\n",
    "    y = 0.1\n",
    "    x = random.uniform(0,1)\n",
    "    \n",
    "    \n",
    "\n",
    "    if y >x :\n",
    "    #  print (True)\n",
    "      count +=1\n",
    "    \n",
    "  #The probability of accepting a worse solution drops with a decrease of T, and at T → 0, parameter P approaches zero, too. \n",
    "  #For high values of T, probability P approaches zero, while for small T, parameter P decreases to zero for worse solutions and increases to 1 for better solutions.\n",
    "    else:\n",
    "   #   print (False)\n",
    "      count1 += 1\n",
    "print( count, \"Number of True statements(chnace of accepting the next step)\")\n",
    "print(count1, \"Number of False statements (chance of rejecting the next step)\")\n"
   ]
  },
  {
   "cell_type": "code",
   "execution_count": null,
   "metadata": {},
   "outputs": [],
   "source": []
  }
 ],
 "metadata": {
  "kernelspec": {
   "display_name": "Python 3",
   "language": "python",
   "name": "python3"
  },
  "language_info": {
   "codemirror_mode": {
    "name": "ipython",
    "version": 3
   },
   "file_extension": ".py",
   "mimetype": "text/x-python",
   "name": "python",
   "nbconvert_exporter": "python",
   "pygments_lexer": "ipython3",
   "version": "3.7.2"
  }
 },
 "nbformat": 4,
 "nbformat_minor": 2
}
