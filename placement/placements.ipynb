{
  "nbformat": 4,
  "nbformat_minor": 0,
  "metadata": {
    "colab": {
      "provenance": []
    },
    "kernelspec": {
      "name": "python3",
      "display_name": "Python 3"
    },
    "language_info": {
      "name": "python"
    }
  },
  "cells": [
    {
      "cell_type": "code",
      "execution_count": null,
      "metadata": {
        "id": "ZmA_Ehmj8rKr",
        "colab": {
          "base_uri": "https://localhost:8080/",
          "height": 495
        },
        "outputId": "cc8e1950-b637-4dce-aa27-231cdd3752ae"
      },
      "outputs": [
        {
          "name": "stdout",
          "output_type": "stream",
          "text": [
            "2\n",
            "3\n",
            "2 1 4\n",
            "3 2 2\n",
            "2\n",
            "6\n",
            "2\n",
            ";\n"
          ]
        },
        {
          "output_type": "error",
          "ename": "ValueError",
          "evalue": "ignored",
          "traceback": [
            "\u001b[0;31m---------------------------------------------------------------------------\u001b[0m",
            "\u001b[0;31mValueError\u001b[0m                                Traceback (most recent call last)",
            "\u001b[0;32m<ipython-input-2-89ff4099406a>\u001b[0m in \u001b[0;36m<module>\u001b[0;34m\u001b[0m\n\u001b[1;32m     49\u001b[0m \u001b[0;34m\u001b[0m\u001b[0m\n\u001b[1;32m     50\u001b[0m \u001b[0;31m#calling main function\u001b[0m\u001b[0;34m\u001b[0m\u001b[0;34m\u001b[0m\u001b[0;34m\u001b[0m\u001b[0m\n\u001b[0;32m---> 51\u001b[0;31m \u001b[0mmain\u001b[0m\u001b[0;34m(\u001b[0m\u001b[0;34m)\u001b[0m\u001b[0;34m\u001b[0m\u001b[0;34m\u001b[0m\u001b[0m\n\u001b[0m",
            "\u001b[0;32m<ipython-input-2-89ff4099406a>\u001b[0m in \u001b[0;36mmain\u001b[0;34m()\u001b[0m\n\u001b[1;32m     14\u001b[0m \u001b[0;34m\u001b[0m\u001b[0m\n\u001b[1;32m     15\u001b[0m         \u001b[0;31m#take input for c, an array of length n that stores the creativity level of each problem\u001b[0m\u001b[0;34m\u001b[0m\u001b[0;34m\u001b[0m\u001b[0;34m\u001b[0m\u001b[0m\n\u001b[0;32m---> 16\u001b[0;31m         \u001b[0mc\u001b[0m \u001b[0;34m=\u001b[0m \u001b[0mlist\u001b[0m\u001b[0;34m(\u001b[0m\u001b[0mmap\u001b[0m\u001b[0;34m(\u001b[0m\u001b[0mint\u001b[0m\u001b[0;34m,\u001b[0m \u001b[0minput\u001b[0m\u001b[0;34m(\u001b[0m\u001b[0;34m)\u001b[0m\u001b[0;34m.\u001b[0m\u001b[0msplit\u001b[0m\u001b[0;34m(\u001b[0m\u001b[0;34m)\u001b[0m\u001b[0;34m)\u001b[0m\u001b[0;34m)\u001b[0m\u001b[0;34m\u001b[0m\u001b[0;34m\u001b[0m\u001b[0m\n\u001b[0m\u001b[1;32m     17\u001b[0m         \u001b[0;31m#take input for h, an array of lenght n that stores the hardness level of each problem\u001b[0m\u001b[0;34m\u001b[0m\u001b[0;34m\u001b[0m\u001b[0;34m\u001b[0m\u001b[0m\n\u001b[1;32m     18\u001b[0m         \u001b[0mh\u001b[0m \u001b[0;34m=\u001b[0m \u001b[0mlist\u001b[0m\u001b[0;34m(\u001b[0m\u001b[0mmap\u001b[0m\u001b[0;34m(\u001b[0m\u001b[0mint\u001b[0m\u001b[0;34m,\u001b[0m \u001b[0minput\u001b[0m\u001b[0;34m(\u001b[0m\u001b[0;34m)\u001b[0m\u001b[0;34m.\u001b[0m\u001b[0msplit\u001b[0m\u001b[0;34m(\u001b[0m\u001b[0;34m)\u001b[0m\u001b[0;34m)\u001b[0m\u001b[0;34m)\u001b[0m\u001b[0;34m\u001b[0m\u001b[0;34m\u001b[0m\u001b[0m\n",
            "\u001b[0;31mValueError\u001b[0m: invalid literal for int() with base 10: ';'"
          ]
        }
      ],
      "source": [
        "#main function\n",
        "def main():\n",
        "    #take input for number of test cases\n",
        "    t = int(input())\n",
        "\n",
        "    #iterate while value of t is greater than 0\n",
        "    while t:\n",
        "\n",
        "        #decrement t by 1\n",
        "        t -= 1\n",
        "\n",
        "        #take input for n, number of problems\n",
        "        n = int(input())\n",
        "\n",
        "        #take input for c, an array of length n that stores the creativity level of each problem \n",
        "        c = list(map(int, input().split()))\n",
        "        #take input for h, an array of lenght n that stores the hardness level of each problem \n",
        "        h = list(map(int, input().split()))\n",
        "\n",
        "        #take input for k, the number of problems to be selected\n",
        "        k = int(input())\n",
        "\n",
        "        #initialize a dictionary mp\n",
        "        mp = {}\n",
        "\n",
        "        #iterate for n\n",
        "        for i in range(n):\n",
        "\n",
        "            #check if the ith hardness level already exists in our map, if it does update its value if it is greater than the stored value of creativity level\n",
        "            if h[i] in mp:\n",
        "                mp[h[i]] = max(mp[h[i]], c[i])\n",
        "            #if it is not present, assign the ith creativity level to mp[ith hardness level]\n",
        "            else:\n",
        "                mp[h[i]] = c[i]\n",
        "\n",
        "        #if length of distinct hardness levels is less than k, print -1 and return from the function\n",
        "        if len(mp) < k:\n",
        "            print(-1)\n",
        "            return\n",
        "\n",
        "        #create a list of highest creativity levels for every hardness level from our map\n",
        "        creativity = [mp[i] for i in mp]\n",
        "        #sort the created list in reverse order\n",
        "        creativity.sort(reverse=True)\n",
        "        #assign the sum of first k elements of the created list to the variable sum\n",
        "        ans = sum(creativity[:k])\n",
        "        #print ans\n",
        "        print(ans)\n",
        "\n",
        "#calling main function\n",
        "main()"
      ]
    },
    {
      "cell_type": "code",
      "source": [
        "arr = [1,2,3,4,5]\n",
        "struct = []\n",
        "recurse(arr , [] , len(arr) , 0 , struct)\n",
        "print(struct)"
      ],
      "metadata": {
        "colab": {
          "base_uri": "https://localhost:8080/"
        },
        "id": "J9D0AetL92Dl",
        "outputId": "f5fcbdc0-c7a3-4072-9aea-e7ac090519a2"
      },
      "execution_count": null,
      "outputs": [
        {
          "output_type": "stream",
          "name": "stdout",
          "text": [
            "[[1, 2, 3, 4, 5], [1, 2, 3, 4], [1, 2, 3, 5], [1, 2, 3], [1, 2, 4, 5], [1, 2, 4], [1, 2, 5], [1, 2], [1, 3, 4, 5], [1, 3, 4], [1, 3, 5], [1, 3], [1, 4, 5], [1, 4], [1, 5], [1], [2, 3, 4, 5], [2, 3, 4], [2, 3, 5], [2, 3], [2, 4, 5], [2, 4], [2, 5], [2], [3, 4, 5], [3, 4], [3, 5], [3], [4, 5], [4], [5], []]\n"
          ]
        }
      ]
    },
    {
      "cell_type": "code",
      "source": [
        "print(0.1 + 0.2) ==0.3"
      ],
      "metadata": {
        "colab": {
          "base_uri": "https://localhost:8080/"
        },
        "id": "o0vuVp4rzc0_",
        "outputId": "74c2cfc1-8b4f-4e99-981d-550d4ff9887e"
      },
      "execution_count": null,
      "outputs": [
        {
          "output_type": "stream",
          "name": "stdout",
          "text": [
            "0.30000000000000004\n"
          ]
        },
        {
          "output_type": "execute_result",
          "data": {
            "text/plain": [
              "False"
            ]
          },
          "metadata": {},
          "execution_count": 3
        }
      ]
    },
    {
      "cell_type": "code",
      "source": [
        "print(~~~~~5)"
      ],
      "metadata": {
        "id": "UEAmj-x6yur_",
        "colab": {
          "base_uri": "https://localhost:8080/"
        },
        "outputId": "9be4cad5-031c-484d-a4ad-fd917e81f26c"
      },
      "execution_count": null,
      "outputs": [
        {
          "output_type": "stream",
          "name": "stdout",
          "text": [
            "-6\n"
          ]
        }
      ]
    },
    {
      "cell_type": "code",
      "source": [
        "def run(a):\n",
        "  a = a +2\n",
        "  print(a)\n",
        "  a = a*2\n",
        "  return a\n",
        "print(run(2))\n",
        "3*1**3"
      ],
      "metadata": {
        "id": "s6WcqLd3G66Z",
        "colab": {
          "base_uri": "https://localhost:8080/"
        },
        "outputId": "cd2e8864-a98f-419d-bc18-8c704e4eaa7c"
      },
      "execution_count": null,
      "outputs": [
        {
          "output_type": "stream",
          "name": "stdout",
          "text": [
            "4\n",
            "8\n"
          ]
        },
        {
          "output_type": "execute_result",
          "data": {
            "text/plain": [
              "3"
            ]
          },
          "metadata": {},
          "execution_count": 11
        }
      ]
    },
    {
      "cell_type": "code",
      "source": [
        "def parant(S):\n",
        "  result =\"\"\n",
        "  count =0\n",
        "  for c in S :\n",
        "    if(c =='(' and count > 0 ):\n",
        "      result += c \n",
        "    if (c==')' and count >1):\n",
        "      result += c \n",
        "  return res\n",
        "\n",
        "if __name__ == '__main__':\n",
        "  S = \"(()())(())()\"\n",
        "  print(parant(S))\n"
      ],
      "metadata": {
        "colab": {
          "base_uri": "https://localhost:8080/",
          "height": 321
        },
        "id": "xeqpqs5YItxj",
        "outputId": "9db2ce0d-fda5-4c0b-8d83-ab4d0b1fc993"
      },
      "execution_count": null,
      "outputs": [
        {
          "output_type": "error",
          "ename": "NameError",
          "evalue": "ignored",
          "traceback": [
            "\u001b[0;31m---------------------------------------------------------------------------\u001b[0m",
            "\u001b[0;31mNameError\u001b[0m                                 Traceback (most recent call last)",
            "\u001b[0;32m<ipython-input-1-2edf318af3ed>\u001b[0m in \u001b[0;36m<module>\u001b[0;34m\u001b[0m\n\u001b[1;32m     11\u001b[0m \u001b[0;32mif\u001b[0m \u001b[0m__name__\u001b[0m \u001b[0;34m==\u001b[0m \u001b[0;34m'__main__'\u001b[0m\u001b[0;34m:\u001b[0m\u001b[0;34m\u001b[0m\u001b[0;34m\u001b[0m\u001b[0m\n\u001b[1;32m     12\u001b[0m   \u001b[0mS\u001b[0m \u001b[0;34m=\u001b[0m \u001b[0;34m\"(()())(())()\"\u001b[0m\u001b[0;34m\u001b[0m\u001b[0;34m\u001b[0m\u001b[0m\n\u001b[0;32m---> 13\u001b[0;31m   \u001b[0mprint\u001b[0m\u001b[0;34m(\u001b[0m\u001b[0mparant\u001b[0m\u001b[0;34m(\u001b[0m\u001b[0mS\u001b[0m\u001b[0;34m)\u001b[0m\u001b[0;34m)\u001b[0m\u001b[0;34m\u001b[0m\u001b[0;34m\u001b[0m\u001b[0m\n\u001b[0m",
            "\u001b[0;32m<ipython-input-1-2edf318af3ed>\u001b[0m in \u001b[0;36mparant\u001b[0;34m(S)\u001b[0m\n\u001b[1;32m      7\u001b[0m     \u001b[0;32mif\u001b[0m \u001b[0;34m(\u001b[0m\u001b[0mc\u001b[0m\u001b[0;34m==\u001b[0m\u001b[0;34m')'\u001b[0m \u001b[0;32mand\u001b[0m \u001b[0mcount\u001b[0m \u001b[0;34m>\u001b[0m\u001b[0;36m1\u001b[0m\u001b[0;34m)\u001b[0m\u001b[0;34m:\u001b[0m\u001b[0;34m\u001b[0m\u001b[0;34m\u001b[0m\u001b[0m\n\u001b[1;32m      8\u001b[0m       \u001b[0mresult\u001b[0m \u001b[0;34m+=\u001b[0m \u001b[0mc\u001b[0m\u001b[0;34m\u001b[0m\u001b[0;34m\u001b[0m\u001b[0m\n\u001b[0;32m----> 9\u001b[0;31m   \u001b[0;32mreturn\u001b[0m \u001b[0mres\u001b[0m\u001b[0;34m\u001b[0m\u001b[0;34m\u001b[0m\u001b[0m\n\u001b[0m\u001b[1;32m     10\u001b[0m \u001b[0;34m\u001b[0m\u001b[0m\n\u001b[1;32m     11\u001b[0m \u001b[0;32mif\u001b[0m \u001b[0m__name__\u001b[0m \u001b[0;34m==\u001b[0m \u001b[0;34m'__main__'\u001b[0m\u001b[0;34m:\u001b[0m\u001b[0;34m\u001b[0m\u001b[0;34m\u001b[0m\u001b[0m\n",
            "\u001b[0;31mNameError\u001b[0m: name 'res' is not defined"
          ]
        }
      ]
    },
    {
      "cell_type": "code",
      "source": [
        "print(\"Hello world\")"
      ],
      "metadata": {
        "id": "cE5EDymcx3Wz",
        "colab": {
          "base_uri": "https://localhost:8080/"
        },
        "outputId": "374e4988-6b88-47d2-ad36-52a9182299b6"
      },
      "execution_count": null,
      "outputs": [
        {
          "output_type": "stream",
          "name": "stdout",
          "text": [
            "Hello world\n"
          ]
        }
      ]
    },
    {
      "cell_type": "code",
      "source": [
        "\n",
        "def printUnion(arr1, arr2, m, n):\n",
        " i, j = 0, 0\n",
        " while i < m and j < n:\n",
        "  if arr1[i] < arr2[j]:\n",
        "   print(arr1[i],end=\" \")\n",
        "   i += 1\n",
        "  elif arr2[j] < arr1[i]:\n",
        "   print(arr2[j],end=\" \")\n",
        "   j+= 1\n",
        "  else:\n",
        "   print(arr2[j],end=\" \")\n",
        "   j += 1\n",
        "   i += 1\n",
        "\n",
        " # Print remaining elements of the larger array\n",
        " while i < m:\n",
        "  print(arr1[i],end=\" \")\n",
        "  i += 1\n",
        "\n",
        " while j < n:\n",
        "  print(arr2[j],end=\" \")\n",
        "  j += 1\n",
        "\n",
        "# Driver program to test above function\n",
        "arr1 = [1, 2, 4, 5, 6]\n",
        "arr2 = [2, 3, 5, 7]\n",
        "m = len(arr1)\n",
        "n = len(arr2)\n",
        "printUnion(arr1, arr2, m, n)\n",
        "\n",
        "# This code is contributed by Pratik Chhajer\n"
      ],
      "metadata": {
        "id": "8d4jsXZE4Hoa"
      },
      "execution_count": null,
      "outputs": []
    },
    {
      "cell_type": "code",
      "source": [
        "N = 10\n",
        "def print(self,N):\n",
        "  if N < 1:\n",
        "    return \n",
        "  self.print(N-1)\n",
        "  print(i ,end = \" \")"
      ],
      "metadata": {
        "id": "AOWC-C2Ci5Jk"
      },
      "execution_count": null,
      "outputs": []
    },
    {
      "cell_type": "code",
      "source": [
        "N=10\n",
        "class Solution:    \n",
        "    #Complete this function\n",
        "    def PrintNos(self,N):\n",
        "        for i in range(0,N+1,1):\n",
        "            print(i,end = \"\")\n",
        "        print(i)\n"
      ],
      "metadata": {
        "id": "X87WzrwVnI92"
      },
      "execution_count": null,
      "outputs": []
    },
    {
      "cell_type": "code",
      "source": [
        "arr = [2,2,3,4,4]\n",
        "dict = {}\n",
        "for elements in arr:\n",
        "  if elements in dict :\n",
        "    dict[elements] += 1\n",
        "  else:\n",
        "     dict[elements] =1\n",
        "for key,value in dict.items():\n",
        "  print(f\"{key}: {value}\",N)\n"
      ],
      "metadata": {
        "colab": {
          "base_uri": "https://localhost:8080/",
          "height": 304
        },
        "id": "d-9Z5R2xxLkm",
        "outputId": "98a8cfef-15ba-472f-e76a-c3d8c6870521"
      },
      "execution_count": null,
      "outputs": [
        {
          "output_type": "error",
          "ename": "AttributeError",
          "evalue": "ignored",
          "traceback": [
            "\u001b[0;31m---------------------------------------------------------------------------\u001b[0m",
            "\u001b[0;31mAttributeError\u001b[0m                            Traceback (most recent call last)",
            "\u001b[0;32m<ipython-input-20-3eb78909c888>\u001b[0m in \u001b[0;36m<module>\u001b[0;34m\u001b[0m\n\u001b[1;32m      7\u001b[0m      \u001b[0mdict\u001b[0m\u001b[0;34m[\u001b[0m\u001b[0melements\u001b[0m\u001b[0;34m]\u001b[0m \u001b[0;34m=\u001b[0m\u001b[0;36m1\u001b[0m\u001b[0;34m\u001b[0m\u001b[0;34m\u001b[0m\u001b[0m\n\u001b[1;32m      8\u001b[0m \u001b[0;32mfor\u001b[0m \u001b[0mkey\u001b[0m\u001b[0;34m,\u001b[0m\u001b[0mvalue\u001b[0m \u001b[0;32min\u001b[0m \u001b[0mdict\u001b[0m\u001b[0;34m.\u001b[0m\u001b[0mitems\u001b[0m\u001b[0;34m(\u001b[0m\u001b[0;34m)\u001b[0m\u001b[0;34m:\u001b[0m\u001b[0;34m\u001b[0m\u001b[0;34m\u001b[0m\u001b[0m\n\u001b[0;32m----> 9\u001b[0;31m   \u001b[0mprint\u001b[0m\u001b[0;34m(\u001b[0m\u001b[0;34mf\"{key}: {value}\"\u001b[0m\u001b[0;34m,\u001b[0m\u001b[0mN\u001b[0m\u001b[0;34m)\u001b[0m\u001b[0;34m\u001b[0m\u001b[0;34m\u001b[0m\u001b[0m\n\u001b[0m",
            "\u001b[0;32m<ipython-input-12-23ded44e5b91>\u001b[0m in \u001b[0;36mprint\u001b[0;34m(self, N)\u001b[0m\n\u001b[1;32m      3\u001b[0m   \u001b[0;32mif\u001b[0m \u001b[0mN\u001b[0m \u001b[0;34m<\u001b[0m \u001b[0;36m1\u001b[0m\u001b[0;34m:\u001b[0m\u001b[0;34m\u001b[0m\u001b[0;34m\u001b[0m\u001b[0m\n\u001b[1;32m      4\u001b[0m     \u001b[0;32mreturn\u001b[0m\u001b[0;34m\u001b[0m\u001b[0;34m\u001b[0m\u001b[0m\n\u001b[0;32m----> 5\u001b[0;31m   \u001b[0mself\u001b[0m\u001b[0;34m.\u001b[0m\u001b[0mprint\u001b[0m\u001b[0;34m(\u001b[0m\u001b[0mN\u001b[0m\u001b[0;34m-\u001b[0m\u001b[0;36m1\u001b[0m\u001b[0;34m)\u001b[0m\u001b[0;34m\u001b[0m\u001b[0;34m\u001b[0m\u001b[0m\n\u001b[0m\u001b[1;32m      6\u001b[0m   \u001b[0mprint\u001b[0m\u001b[0;34m(\u001b[0m\u001b[0mi\u001b[0m \u001b[0;34m,\u001b[0m\u001b[0mend\u001b[0m \u001b[0;34m=\u001b[0m \u001b[0;34m\" \"\u001b[0m\u001b[0;34m)\u001b[0m\u001b[0;34m\u001b[0m\u001b[0;34m\u001b[0m\u001b[0m\n",
            "\u001b[0;31mAttributeError\u001b[0m: 'str' object has no attribute 'print'"
          ]
        }
      ]
    },
    {
      "cell_type": "code",
      "source": [],
      "metadata": {
        "id": "nITHig-Ltwu6"
      },
      "execution_count": null,
      "outputs": []
    },
    {
      "cell_type": "code",
      "source": [
        "    def printNos(self,N):\n",
        "        #Your code here\n",
        "        for i in range(1,N+1,1):\n",
        "            print(i, end = \" \")\n",
        "            print(i)"
      ],
      "metadata": {
        "id": "Uwq4FL2JOzp5"
      },
      "execution_count": null,
      "outputs": []
    },
    {
      "cell_type": "code",
      "source": [
        "def sirted(arr):\n",
        "  arr = [1,2,3,4,5]\n",
        "  sum = 0\n"
      ],
      "metadata": {
        "id": "Ov4JWitptmS_"
      },
      "execution_count": null,
      "outputs": []
    },
    {
      "cell_type": "code",
      "source": [
        "arr = [3,5,6,8,9]\n",
        "def sorted(arr):\n",
        "  for i in range(0,len(arr)):\n",
        "    for j in range(0,len(arr),):"
      ],
      "metadata": {
        "id": "eJAmbS7f-IOO"
      },
      "execution_count": null,
      "outputs": []
    },
    {
      "cell_type": "code",
      "source": [
        "list = [1,1,2,2,3,3]\n",
        "def twopointers(arr):\n",
        "  # int i = 0\n",
        "  for i in range(1,len(arr)):\n",
        "    print(arr)"
      ],
      "metadata": {
        "id": "SVf76DhM4Q9G"
      },
      "execution_count": null,
      "outputs": []
    },
    {
      "cell_type": "code",
      "source": [
        "class Node:\n",
        "  def __init__(self,data):\n",
        "    self.data = data\n",
        "    self.next = None\n",
        "\n",
        "class linkedlist:\n",
        "  def __init__(self):\n",
        "    self.head = None\n",
        "  def insert(self,prev_node,new_data):\n",
        "    #chcek if prevnodeis none\n",
        "    if prev_node == None:\n",
        "      print (\"it has to be linkedlist\")\n",
        "      return \n",
        "    new_node = Node(new_data)\n",
        "    new_node.next = prev_node.next\n",
        "    prev_node.next = new_node\n",
        "\n",
        "  def append_at_last(self,new_data):\n",
        "    if self.head == None:\n",
        "      new_node = Node(new_data)\n",
        "      "
      ],
      "metadata": {
        "id": "OWT33l6SScIr"
      },
      "execution_count": null,
      "outputs": []
    },
    {
      "cell_type": "code",
      "source": [
        "\n",
        "class Node:\n",
        "  def __init__(self, data):\n",
        "    self.data = data # Assign data\n",
        "    self.next = None # Initialize next as null\n",
        "\n",
        "\n",
        "# Linked List class contains a Node object\n",
        "class LinkedList:\n",
        "\n",
        " # Function to initialize head\n",
        " def __init__(self):\n",
        "  self.head = None\n",
        "\n",
        "\n",
        " # Function to insert a new node at the beginning\n",
        " def push(self, new_data):\n",
        "\n",
        "  # 1 & 2: Allocate the Node &\n",
        "  #  Put in the data\n",
        "  new_node = Node(new_data)\n",
        "\n",
        "  # 3. Make next of new Node as head\n",
        "  new_node.next = self.head\n",
        "\n",
        "  # 4. Move the head to point to new Node\n",
        "  self.head = new_node\n",
        "\n",
        "\n",
        "\n",
        " def insertAfter(self, prev_node, new_data):\n",
        "\n",
        "  # 1. check if the given prev_node exists\n",
        "  if prev_node is None:\n",
        "   print(\"The given previous node must inLinkedList.\")\n",
        "   return\n",
        "\n",
        "  # 2. create new node &\n",
        "  #  Put in the data\n",
        "  new_node = Node(new_data)\n",
        "\n",
        "  # 4. Make next of new Node as next of prev_node\n",
        "  new_node.next = prev_node.next\n",
        "\n",
        "  # 5. make next of prev_node as new_node\n",
        "  prev_node.next = new_node\n",
        "\n",
        "\n",
        " def append(self, new_data):\n",
        "\n",
        "\n",
        "  new_node = Node(new_data)\n",
        "\n",
        "\n",
        "  if self.head is None:\n",
        "   self.head = new_node\n",
        "   return\n",
        "\n",
        "  # 5. Else traverse till the last node\n",
        "  last = self.head\n",
        "  while (last.next):\n",
        "   last = last.next\n",
        "\n",
        "  # 6. Change the next of last node\n",
        "  last.next = new_node\n",
        "\n",
        "\n",
        " # Utility function to print the linked list\n",
        " def printList(self):\n",
        "  temp = self.head\n",
        "  while (temp):\n",
        "   print(temp.data,end=\" \")\n",
        "   \n",
        "   temp = temp.next\n",
        "\n",
        "\n",
        "\n",
        "# Code execution starts here\n",
        "if __name__=='__main__':\n",
        "\n",
        " # Start with the empty list\n",
        " llist = LinkedList()\n",
        "\n",
        " # Insert 6. So linked list becomes 6->None\n",
        " llist.append(6)\n",
        "\n",
        " # Insert 7 at the beginning. So linked list becomes 7->6->None\n",
        " llist.push(7);\n",
        "\n",
        " # Insert 1 at the beginning. So linked list becomes 1->7->6->None\n",
        " llist.push(1);\n",
        "\n",
        " # Insert 4 at the end. So linked list becomes 1->7->6->4->None\n",
        " llist.append(4)\n",
        "\n",
        " # Insert 8, after 7. So linked list becomes 1 -> 7-> 8-> 6-> 4-> None\n",
        " llist.insertAfter(llist.head.next, 8)\n",
        " print(\"added 8 to the list\")\n",
        "\n",
        " print('Created linked list is: ')\n",
        " llist.printList()\n",
        "\n",
        "# This code is contributed by Manikantan Narasimhan\n"
      ],
      "metadata": {
        "colab": {
          "base_uri": "https://localhost:8080/"
        },
        "id": "map5zk9NeeZN",
        "outputId": "6c9ba3ef-7a5b-4b44-cfdc-1e5b318aaf83"
      },
      "execution_count": null,
      "outputs": [
        {
          "output_type": "stream",
          "name": "stdout",
          "text": [
            "added 8 to the list\n",
            "Created linked list is: \n",
            "1 7 8 6 4 "
          ]
        }
      ]
    },
    {
      "cell_type": "code",
      "source": [
        "class Node:\n",
        "\n",
        " # Function to initialise the node object\n",
        " def __init__(self, data):\n",
        "  self.data = data \n",
        "  self.next = None\n",
        "\n",
        "\n",
        "# Linked List class contains a Node object\n",
        "class LinkedList:\n",
        "\n",
        "\n",
        " def __init__(self):\n",
        "  self.head = None\n",
        "\n",
        "\n",
        "                            # Function to insert a new node at the beginning\n",
        " def push(self, new_data):#***************************************\n",
        "\n",
        "  new_node = Node(new_data)\n",
        "\n",
        "  # 3. Make next of new Node as head\n",
        "  new_node.next = self.head\n",
        "\n",
        "  # 4. Move the head to point to new Node\n",
        "  self.head = new_node\n",
        " # Inserts a new node after the given prev_node. \n",
        " \n",
        " def insertAfter(self, prev_node, new_data):#****************************\n",
        "\n",
        "  # 1. check if the given prev_node exists\n",
        "  if prev_node is None:\n",
        "   print(\"The given previous node must inLinkedList.\")\n",
        "   return\n",
        "\n",
        "  # 2. create new node &\n",
        "  #  Put in the data\n",
        "  new_node = Node(new_data)\n",
        "\n",
        "  # 4. Make next of new Node as next of prev_node\n",
        "  new_node.next = prev_node.next\n",
        "\n",
        "  # 5. make next of prev_node as new_node\n",
        "  prev_node.next = new_node\n",
        " \n",
        " # Appends a new node at the end. \n",
        " def append(self, new_data):#****************************\n",
        "\n",
        "  # 1. Create a new node\n",
        "  # 2. Put in the data\n",
        "  # 3. Set next as None\n",
        "  new_node = Node(new_data)\n",
        "\n",
        "  # 4. If the Linked List is empty, then make the\n",
        "  # new node as head\n",
        "  if self.head is None:\n",
        "   self.head = new_node\n",
        "   return\n",
        "\n",
        "  # 5. Else traverse till the last node\n",
        "  last = self.head\n",
        "  while (last.next):\n",
        "   last = last.next\n",
        "\n",
        "  # 6. Change the next of last node\n",
        "  last.next = new_node\n",
        "\n",
        "\n",
        " # Utility function to print the linked list\n",
        " def printList(self):#*******************************************\n",
        "  temp = self.head\n",
        "  while (temp):\n",
        "   print(temp.data,end=\" \")\n",
        "   temp = temp.next\n",
        "\n",
        "\n",
        "\n",
        "# Code execution starts here\n",
        "if __name__=='__main__':#*****************************************\n",
        "\n",
        " # Start with the empty list\n",
        " llist = LinkedList()\n",
        "\n",
        " llist.append(6)\n",
        "\n",
        " # Insert 7 at the beginning. So linked list becomes 7->6->None\n",
        " llist.push(7);\n",
        "\n",
        " # Insert 1 at the beginning. So linked list becomes 1->7->6->None\n",
        " llist.push(1);\n",
        "\n",
        " # Insert 4 at the end. So linked list becomes 1->7->6->4->None\n",
        " llist.append(4)\n",
        "\n",
        " # Insert 8, after 7. So linked list becomes 1 -> 7-> 8-> 6-> 4-> None\n",
        " llist.insertAfter(llist.head.next, 8)\n",
        "\n",
        " print('Created linked list is: ')\n",
        " llist.printList()\n"
      ],
      "metadata": {
        "id": "lICLfIGW3Ksj"
      },
      "execution_count": null,
      "outputs": []
    },
    {
      "cell_type": "code",
      "source": [
        "def value(char ):\n",
        "  if(char =='I' ):\n",
        "    return 1\n",
        "  if(char =='IV' ):\n",
        "    return 4\n",
        "  if(char =='V' ):\n",
        "    return 5\n",
        "  if(char =='IX' ):\n",
        "    return 9\n",
        "  if(char =='X' ):\n",
        "    return 10\n",
        "  if(char =='XL' ):\n",
        "    return 40\n",
        "  if(char =='L' ):\n",
        "    return 50\n",
        "  if(char =='XC' ):\n",
        "    return 90\n",
        "  if(char =='C' ):\n",
        "    return 100\n",
        "  if(char =='CD' ):\n",
        "    return 400\n",
        "  if(char =='D' ):\n",
        "    return 500\n",
        "  if(char =='CM' ):\n",
        "    return 900\n",
        "  if (char == 'M'):\n",
        "    return 1000\n",
        "  return -1\n",
        "\n",
        "  def roman_2dec(str):\n",
        "    result = 0\n",
        "    while(i < len(str)):\n",
        "      s1 = value(str[i])\n",
        "      #here we have to check wheter the string is completed or there \n",
        "      if (i+ 1 < len(str)):\n",
        "        s2 = value(str[i+1])\n",
        "\n",
        "        if (s1 >= s2):\n",
        "          res = res+s1\n",
        "          i += 1\n",
        "        if (s1 <= s2):\n",
        "          result = result + s2- s1\n",
        "          i+=2\n",
        "        else:\n",
        "\n",
        "          i+=1\n",
        "\n",
        "      return result\n",
        "str = \"CD\"\n",
        "hai = roman_2dec(str)\n",
        "\n",
        "        \n",
        "\n"
      ],
      "metadata": {
        "colab": {
          "base_uri": "https://localhost:8080/",
          "height": 235
        },
        "id": "3hrajcCmHm1a",
        "outputId": "467084ef-79cf-4280-e8d8-fc52e8da4a7d"
      },
      "execution_count": null,
      "outputs": [
        {
          "output_type": "error",
          "ename": "NameError",
          "evalue": "ignored",
          "traceback": [
            "\u001b[0;31m---------------------------------------------------------------------------\u001b[0m",
            "\u001b[0;31mNameError\u001b[0m                                 Traceback (most recent call last)",
            "\u001b[0;32m<ipython-input-3-d48173658e1f>\u001b[0m in \u001b[0;36m<module>\u001b[0;34m\u001b[0m\n\u001b[1;32m     48\u001b[0m       \u001b[0;32mreturn\u001b[0m \u001b[0mresult\u001b[0m\u001b[0;34m\u001b[0m\u001b[0;34m\u001b[0m\u001b[0m\n\u001b[1;32m     49\u001b[0m \u001b[0mstr\u001b[0m \u001b[0;34m=\u001b[0m \u001b[0;34m\"CD\"\u001b[0m\u001b[0;34m\u001b[0m\u001b[0;34m\u001b[0m\u001b[0m\n\u001b[0;32m---> 50\u001b[0;31m \u001b[0mprint\u001b[0m\u001b[0;34m(\u001b[0m\u001b[0mroman_dec\u001b[0m\u001b[0;34m(\u001b[0m\u001b[0mstr\u001b[0m\u001b[0;34m)\u001b[0m\u001b[0;34m)\u001b[0m\u001b[0;34m\u001b[0m\u001b[0;34m\u001b[0m\u001b[0m\n\u001b[0m\u001b[1;32m     51\u001b[0m \u001b[0;34m\u001b[0m\u001b[0m\n\u001b[1;32m     52\u001b[0m \u001b[0;34m\u001b[0m\u001b[0m\n",
            "\u001b[0;31mNameError\u001b[0m: name 'roman_dec' is not defined"
          ]
        }
      ]
    },
    {
      "cell_type": "code",
      "source": [
        "import random\n",
        "\n",
        "count =0\n",
        "count1 =0\n",
        "for i in range(1000):\n",
        "    y = 0.9\n",
        "    x = random.uniform(0,1)\n",
        "    \n",
        "\n",
        "    if y >x :\n",
        "    #  print (True)\n",
        "      count +=1\n",
        "    \n",
        "    \n",
        "    else:\n",
        "   #   print (False)\n",
        "      count1 += 1\n",
        "print( count, \"Number of True statements\")\n",
        "print(count1, \"Number of False statements\")"
      ],
      "metadata": {
        "id": "Y0wUfamsnRXy",
        "colab": {
          "base_uri": "https://localhost:8080/"
        },
        "outputId": "4c6d880b-84f5-4c76-e7d1-7ddc1e4bd90b"
      },
      "execution_count": null,
      "outputs": [
        {
          "output_type": "stream",
          "name": "stdout",
          "text": [
            "903 Number of True statements\n",
            "97 Number of False statements\n"
          ]
        }
      ]
    },
    {
      "cell_type": "code",
      "source": [
        "import random\n",
        "import math\n",
        "\n",
        "def simulated_annealing(initial_state):\n",
        "    \"\"\"Peforms simulated annealing to find a solution\"\"\"\n",
        "    initial_temp = 90\n",
        "    final_temp = .1\n",
        "    alpha = 0.01\n",
        "    \n",
        "    current_temp = initial_temp\n",
        "\n",
        "    # Start by initializing the current state with the initial state\n",
        "    current_state = initial_state\n",
        "    solution = current_state\n",
        "\n",
        "    while current_temp > final_temp:\n",
        "        neighbor = random.choice(get_neighbors())\n",
        "\n",
        "        # Check if neighbor is best so far\n",
        "        cost_diff = get_cost(self.current_state) - get_cost(neighbor)\n",
        "\n",
        "        # if the new solution is better, accept it\n",
        "        if cost_diff > 0:\n",
        "            solution = neighbor\n",
        "        # if the new solution is not better, accept it with a probability of e^(-cost/temp)\n",
        "        else:\n",
        "            if random.uniform(0, 1) < math.exp(-cost_diff / current_temp):\n",
        "                solution = neighbor\n",
        "        # decrement the temperature\n",
        "        current_temp -= alpha\n",
        "\n",
        "    return solution\n",
        "\n",
        "def get_cost(state):\n",
        "    \"\"\"Calculates cost of the argument state for your solution.\"\"\"\n",
        "    raise NotImplementedError\n",
        "    \n",
        "def get_neighbors(state):\n",
        "    \"\"\"Returns neighbors of the argument state for your solution.\"\"\"\n",
        "    raise NotImplementedError"
      ],
      "metadata": {
        "id": "VBlSQ0_0Q-kT"
      },
      "execution_count": null,
      "outputs": []
    },
    {
      "cell_type": "code",
      "source": [
        "def palindrome(string):\n",
        "  return string = string[::-1]\n",
        "  print(\"string is \",string)\n",
        "\n",
        "\n",
        "  s = \"level\"\n",
        "  ans = palindrome(s)\n",
        "  if ans == True:\n",
        "    print(\"Yes\")\n",
        "  else :\n",
        "    print(\"No\")\n"
      ],
      "metadata": {
        "colab": {
          "base_uri": "https://localhost:8080/",
          "height": 130
        },
        "id": "hjGPVLLmHAhn",
        "outputId": "1e708ee0-5cd1-44cc-8aa1-bdf2ce394d9a"
      },
      "execution_count": null,
      "outputs": [
        {
          "output_type": "error",
          "ename": "SyntaxError",
          "evalue": "ignored",
          "traceback": [
            "\u001b[0;36m  File \u001b[0;32m\"<ipython-input-1-2a42346b2eaf>\"\u001b[0;36m, line \u001b[0;32m2\u001b[0m\n\u001b[0;31m    return string = string[::-1]\u001b[0m\n\u001b[0m                  ^\u001b[0m\n\u001b[0;31mSyntaxError\u001b[0m\u001b[0;31m:\u001b[0m invalid syntax\n"
          ]
        }
      ]
    },
    {
      "cell_type": "code",
      "source": [
        "import random\n",
        "\n",
        "# code adapted from the tutorial of the article \"How to Implement the Hill Climbing Algorithm in Python\"\n",
        "# https://towardsdatascience.com/how-to-implement-the-hill-climbing-algorithm-in-python-1c65c29469de\n",
        "\n",
        "def randomSolution(tsp):\n",
        "    cities = list(range(len(tsp)))\n",
        "    solution = []\n",
        "\n",
        "    for i in range(len(tsp)):\n",
        "        randomCity = cities[random.randint(0, len(cities) - 1)]\n",
        "        solution.append(randomCity)\n",
        "        cities.remove(randomCity)\n",
        "        \n",
        "    print('random arrangement: ', solution)\n",
        "    return solution\n",
        "\n",
        "# calcula o tamanho da rota a partir de uma solução e da matriz de distâncias\n",
        "def routeLength(tsp, solution):\n",
        "    routeLength = 0\n",
        "    for i in range(len(solution)):\n",
        "        routeLength += tsp[solution[i - 1]][solution[i]]\n",
        "    return routeLength\n",
        "\n",
        "# ex: [0, 1, 2, 3, 4, 5] -> [0, 1, 3, 2, 4, 5]\n",
        "def getNeighbours(solution):\n",
        "    neighbours = []\n",
        "    for i in range(len(solution)):\n",
        "        for j in range(i + 1, len(solution)):\n",
        "            neighbour = solution.copy()\n",
        "            neighbour[i] = solution[j]\n",
        "            neighbour[j] = solution[i]\n",
        "            neighbours.append(neighbour)\n",
        "    return neighbours\n",
        "\n",
        "def getBestNeighbour(tsp, neighbours):\n",
        "    bestRouteLength = routeLength(tsp, neighbours[0])\n",
        "    bestNeighbour = neighbours[0]\n",
        "    for neighbour in neighbours:\n",
        "        currentRouteLength = routeLength(tsp, neighbour)\n",
        "        if currentRouteLength < bestRouteLength:\n",
        "            bestRouteLength = currentRouteLength\n",
        "            bestNeighbour = neighbour\n",
        "    return bestNeighbour, bestRouteLength\n",
        "\n",
        "def hillClimbing(tsp):\n",
        "    currentSolution = randomSolution(tsp)\n",
        "    currentRouteLength = routeLength(tsp, currentSolution)\n",
        "    neighbours = getNeighbours(currentSolution)\n",
        "    bestNeighbour, bestNeighbourRouteLength = getBestNeighbour(tsp, neighbours)\n",
        "    print('first solution: ', bestNeighbour , ', ', bestNeighbourRouteLength)\n",
        "\n",
        "    while bestNeighbourRouteLength < currentRouteLength:\n",
        "        currentSolution = bestNeighbour\n",
        "        currentRouteLength = bestNeighbourRouteLength\n",
        "        neighbours = getNeighbours(currentSolution)\n",
        "        bestNeighbour, bestNeighbourRouteLength = getBestNeighbour(tsp, neighbours)\n",
        "        print('current solution: ', bestNeighbour , ', ', bestNeighbourRouteLength)\n",
        "\n",
        "\n",
        "    return currentSolution, currentRouteLength\n",
        "\n",
        "\n",
        "\n",
        "def main():\n",
        "\n",
        "    tsp = [\n",
        "        [0, 200, 500, 650, 600, 150],\n",
        "        [200, 0, 250, 700, 750, 300],\n",
        "        [500, 250, 0, 150, 400, 500],\n",
        "        [650, 700, 150, 0, 100, 200],\n",
        "        [600, 750, 400, 100, 0, 150],\n",
        "        [150, 300, 500, 200, 150, 0]\n",
        "    ]\n",
        "\n",
        "    print('-----')\n",
        "    print('\\n final solution', hillClimbing(tsp))\n",
        "\n",
        "if __name__ == \"__main__\":\n",
        "    main()"
      ],
      "metadata": {
        "colab": {
          "base_uri": "https://localhost:8080/"
        },
        "id": "pDqHFeTVyxxj",
        "outputId": "4464248e-6777-45eb-b43e-be4dd23dbd07"
      },
      "execution_count": null,
      "outputs": [
        {
          "output_type": "stream",
          "name": "stdout",
          "text": [
            "-----\n",
            "random arrangement:  [1, 0, 5, 3, 2, 4]\n",
            "first solution:  [1, 0, 5, 3, 4, 2] ,  1300\n",
            "current solution:  [1, 0, 5, 4, 3, 2] ,  1000\n",
            "current solution:  [1, 0, 5, 3, 4, 2] ,  1300\n",
            "\n",
            " final solution ([1, 0, 5, 4, 3, 2], 1000)\n"
          ]
        }
      ]
    },
    {
      "cell_type": "code",
      "source": [
        "import random \n",
        "\n",
        "def initial_config(tsp): #here tsp is the list of cities \n",
        "\n",
        "  cities = list(range(len(tsp)))\n",
        "  print(cities)\n",
        "\n",
        "  solution = []  #solution is used to store thelist of all cities in a order\n",
        "\n",
        "  for i in range(len(tsp)):\n",
        "\n",
        "    randomcity =cities[random.randint(0,len(cities)-1)] #choosing one city out of the list \n",
        "    \n",
        "    solution.append(randomcity) # adding city to solution array\n",
        "    \n",
        "    cities.remove(randomcity)   #remvoing the city from city identifier list\n",
        "    \n",
        "  #print('random arrangement: ', solution)\n",
        "  \n",
        "  return solution\n",
        "\n",
        "def distance(tsp,solution): #used for finding the length of route\n",
        "\n",
        "  distance = 0              #\n",
        "  \n",
        "  for i in range(len(solution)):\n",
        "\n",
        "    distance += tsp[solution[i-1]][solution[i]]\n",
        "\n",
        "  return distance\n",
        "\n",
        "def findnext(solution): #finding neighbour that only sightly different from current solution\n",
        "\n",
        "  neighbours = []\n",
        "\n",
        "  for i in range(len(solution)):#loop thoroughout the city \n",
        "\n",
        "    for j in range(i + 1,len(solution)):#cities the firstloop hasnt looped over yet in this for loop\n",
        "\n",
        "      neighbour  = solution.copy() #copying the current solution\n",
        "\n",
        "      neighbour[i] = solution[j]  #swap two cities and this way creating a\n",
        "\n",
        "      neighbour[j] = solution[i]  #different solution and exploring neighbours\n",
        "\n",
        "      neighbours.append(neighbour)\n",
        "\n",
        "  return neighbours #add to the neighbours list\n",
        "\n",
        "def best_next(tsp,neighbours):\n",
        "\n",
        "  bestdistance = distance(tsp,neighbours[0]) #starting from 1st place\n",
        "\n",
        "  bestneighbour =neighbours[0]\n",
        "\n",
        "  for neighbour in neighbours:\n",
        "\n",
        "    current_distance = distance(tsp,neighbour)\n",
        "\n",
        "    if current_distance < bestdistance:#checking current and bestdist\n",
        "\n",
        "      bestdistance = current_distance #if satisfies replace\n",
        "\n",
        "      bestneighbour = neighbour\n",
        "\n",
        "  return bestneighbour , bestdistance\n",
        "\n",
        "def hillclimbing(tsp):\n",
        "  currentsolution = initial_config(tsp)  #make a random solution  \n",
        "\n",
        "  currentdistance = distance(tsp,currentsolution) # calculate routelength/distance\n",
        "\n",
        "  neighbours = findnext(currentsolution)  #create neighbouring soln\n",
        "\n",
        "  bestneighbour,bestneighbourdistance  = best_next(tsp,neighbours) #take best out of neighbour\n",
        "\n",
        "  print('first solution: ', bestneighbour , ', ', bestneighbourdistance)\n",
        "\n",
        "  while bestneighbourdistance < currentdistance: #repeat the process until bestneighbour is better\n",
        "                                                #better than current one\n",
        "    currentsolution = bestneighbour\n",
        "\n",
        "    currentdistance = bestneighbourdistance\n",
        "\n",
        "    neighbours =findnext(currentsolution)\n",
        "\n",
        "    bestneighbour, bestneighbourdistance = best_next(tsp, neighbours)\n",
        "  \n",
        "  return currentsolution,currentdistance\n",
        "  print('current solution: ', bestneighbour , ', ', bestneighbourdistance)\n",
        "\n",
        "# def problemGenerator(nCities):#here ncities is no.of vertices/cities for salesman\n",
        "#     tsp = []                 #problemgenerator for creating more vertices and giving random weight \n",
        "#     for i in range(nCities):\n",
        "#         distances = []      #for each city creating a list of distance(randomly)\n",
        "#         for j in range(nCities):\n",
        "#             if j == i:     #look for  value if it is already known\n",
        "#                 distances.append(0)\n",
        "#             elif j < i:\n",
        "#                 distances.append(tsp[j][i])\n",
        "#             else:\n",
        "#                 distances.append(random.randint(10, 1000))\n",
        "#         tsp.append(distances)\n",
        "#     return tsp\n",
        "\n",
        "def main():\n",
        "    tsp = [\n",
        "        [0, 200, 500, 650, 600, 150],\n",
        "        [200, 0, 250, 700, 750, 300],\n",
        "        [500, 250, 0, 150, 400, 500],\n",
        "        [650, 700, 150, 0, 100, 200],\n",
        "        [600, 750, 400, 100, 0, 150],\n",
        "        [150, 300, 500, 200, 150, 0]\n",
        "        # [0,10,20],\n",
        "        # [10,0,20],\n",
        "        # [20,30,0]\n",
        "    ]\n",
        "    # tsp = problemGenerator(6)#give the no.of vertices count here\n",
        "    # for i in range(10):\n",
        "    #   print(hillclimbing(tsp))\n",
        "\n",
        "    print('----------------------------------------')\n",
        "    print('\\n final solution', hillclimbing(tsp))\n",
        "\n",
        "if __name__ == \"__main__\":\n",
        "    main()\n",
        "\n",
        "\n"
      ],
      "metadata": {
        "id": "JSaM5L-0yyks",
        "colab": {
          "base_uri": "https://localhost:8080/"
        },
        "outputId": "4a2fa7af-f4fa-4949-c89a-76aa1588d095"
      },
      "execution_count": null,
      "outputs": [
        {
          "output_type": "stream",
          "name": "stdout",
          "text": [
            "----------------------------------------\n",
            "[0, 1, 2, 3, 4, 5]\n",
            "first solution:  [1, 2, 3, 4, 0, 5] ,  1550\n",
            "\n",
            " final solution ([1, 2, 3, 4, 5, 0], 1000)\n"
          ]
        }
      ]
    },
    {
      "cell_type": "code",
      "source": [
        "def minimumBribes(q):\n",
        "    bribes = 0\n",
        "    for i in range(len(q)-1, -1, -1):\n",
        "        if q[i] - (i + 1) > 2:\n",
        "            print('Too chaotic')\n",
        "            return\n",
        "        for j in range(max(0, q[i] - 2), i):\n",
        "            if q[j] > q[i]:\n",
        "                bribes += 1\n",
        "    print(bribes)\n",
        "\n",
        "if __name__ == '__main__':\n",
        "    t = int(input())\n",
        "\n",
        "    for t_itr in range(t):\n",
        "        n = int(input())\n",
        "\n",
        "        q = list(map(int, input().rstrip().split()))\n",
        "\n",
        "        minimumBribes(q)\n",
        "\n"
      ],
      "metadata": {
        "id": "9_Qzw0kUh0Sd",
        "colab": {
          "base_uri": "https://localhost:8080/",
          "height": 321
        },
        "outputId": "831e0ab7-cca4-4baa-fd52-a7961a747676"
      },
      "execution_count": null,
      "outputs": [
        {
          "name": "stdout",
          "output_type": "stream",
          "text": [
            "2\n",
            "5\n",
            "2 1 3 5 4\n",
            "2\n",
            "2 3 1 5 4 \n"
          ]
        },
        {
          "output_type": "error",
          "ename": "ValueError",
          "evalue": "ignored",
          "traceback": [
            "\u001b[0;31m---------------------------------------------------------------------------\u001b[0m",
            "\u001b[0;31mValueError\u001b[0m                                Traceback (most recent call last)",
            "\u001b[0;32m<ipython-input-2-1b1ab483886a>\u001b[0m in \u001b[0;36m<module>\u001b[0;34m\u001b[0m\n\u001b[1;32m     14\u001b[0m \u001b[0;34m\u001b[0m\u001b[0m\n\u001b[1;32m     15\u001b[0m     \u001b[0;32mfor\u001b[0m \u001b[0mt_itr\u001b[0m \u001b[0;32min\u001b[0m \u001b[0mrange\u001b[0m\u001b[0;34m(\u001b[0m\u001b[0mt\u001b[0m\u001b[0;34m)\u001b[0m\u001b[0;34m:\u001b[0m\u001b[0;34m\u001b[0m\u001b[0;34m\u001b[0m\u001b[0m\n\u001b[0;32m---> 16\u001b[0;31m         \u001b[0mn\u001b[0m \u001b[0;34m=\u001b[0m \u001b[0mint\u001b[0m\u001b[0;34m(\u001b[0m\u001b[0minput\u001b[0m\u001b[0;34m(\u001b[0m\u001b[0;34m)\u001b[0m\u001b[0;34m)\u001b[0m\u001b[0;34m\u001b[0m\u001b[0;34m\u001b[0m\u001b[0m\n\u001b[0m\u001b[1;32m     17\u001b[0m \u001b[0;34m\u001b[0m\u001b[0m\n\u001b[1;32m     18\u001b[0m         \u001b[0mq\u001b[0m \u001b[0;34m=\u001b[0m \u001b[0mlist\u001b[0m\u001b[0;34m(\u001b[0m\u001b[0mmap\u001b[0m\u001b[0;34m(\u001b[0m\u001b[0mint\u001b[0m\u001b[0;34m,\u001b[0m \u001b[0minput\u001b[0m\u001b[0;34m(\u001b[0m\u001b[0;34m)\u001b[0m\u001b[0;34m.\u001b[0m\u001b[0mrstrip\u001b[0m\u001b[0;34m(\u001b[0m\u001b[0;34m)\u001b[0m\u001b[0;34m.\u001b[0m\u001b[0msplit\u001b[0m\u001b[0;34m(\u001b[0m\u001b[0;34m)\u001b[0m\u001b[0;34m)\u001b[0m\u001b[0;34m)\u001b[0m\u001b[0;34m\u001b[0m\u001b[0;34m\u001b[0m\u001b[0m\n",
            "\u001b[0;31mValueError\u001b[0m: invalid literal for int() with base 10: '2 3 1 5 4 '"
          ]
        }
      ]
    },
    {
      "cell_type": "code",
      "source": [
        "###simulated annealing with tsp \n",
        "\n",
        "import numpy as np\n",
        "\n",
        "def total_dist(route):\n",
        "  d = 0.0\n",
        "  n = len(route)\n",
        "  for i in range(n-1):#as n is the size/len of n \n",
        "    if route[i] < route[i+1]:\n",
        "      d += (route[i+1] - route[i]) * 1.0\n",
        "    else:\n",
        "      d += (route[i] - route[i+1]) * 1.5\n",
        "  return d\n",
        "\n",
        "def adjacent_node(route,rnd):\n",
        "  n = len(route)\n",
        "  result = np.copy(route)#foe getting the adjacent node swapping with beside one\n",
        "  i = rnd.randint(n);\n",
        "  j =rnd.randint(n)\n",
        "  tmp = result[i]\n",
        "  result[i] = result[j];\n",
        "  result[j]= tmp\n",
        "  return result\n",
        "  \n",
        "\n",
        "def error(route):  #for this scenario the error of a route as the distance of the route\n",
        "  n = len(route)\n",
        "  d = total_dist(route)\n",
        "  min_dist = n-1\n",
        "  return d -min_dist # large distance is equivalent to large error bcz our goal is to minimise total distance travelled\n",
        "\n",
        "def solve(n_cities,rnd,max_iter,start_temp,alpha): #here alpha is gradual decrease of temp rate\n",
        "  cur_temp = start_temp #start with given starting temp\n",
        "  soln = np.arange(n_cities,dtype = np.int64)\n",
        "  rnd.shuffle(soln)\n",
        "  print(\"Initial guess:\")\n",
        "  print(soln)\n",
        "\n",
        "  err = error(soln)\n",
        "  iteration = 0\n",
        "  interval =(int)(max_iter /10)\n",
        "  while iteration < max_iter and err > 0.0:\n",
        "    adj_route = adjacent_node(soln,rnd)\n",
        "    adj_error = error(adj_route)\n",
        "\n",
        "    if adj_error < err:  #this is the best so accept the soln\n",
        "      soln = adj_route \n",
        "      err = adj_error\n",
        "    else:      #accept but with some probability so \n",
        "      accept_p =np.exp((err-adj_error) / cur_temp)\n",
        "      p = rnd.random()\n",
        "\n",
        "      if accept_p > p :  #accept anyway as it is satisfying the accepatance probability\n",
        "        soln = adj_route;\n",
        "        err = adj_error\n",
        "\n",
        "      if cur_temp < 0.00001:\n",
        "        cur_temp = 0.00001\n",
        "      else:\n",
        "        cur_temp *= alpha\n",
        "      iteration +=1\n",
        "    return soln\n",
        "def main():\n",
        "    print(\"Beginning of tsp\")\n",
        "    num_cities = 20\n",
        "    max_iter = 2500\n",
        "    alpha = 0.99\n",
        "    start_temp = 10000\n",
        "    rnd = np.random.RandomState(4)\n",
        "    soln = solve(num_cities, rnd, max_iter, \n",
        "    start_temp, alpha)\n",
        "    print(\"Finished solve() \")\n",
        "    print(\"\\nBest solution found: \")\n",
        "    print(soln)\n",
        "    dist = total_dist(soln)\n",
        "    print(\"\\nTotal distance = %0.1f \" % dist)\n",
        "\n",
        "    \n",
        "\n",
        "if __name__ == \"__main__\":\n",
        "  main()\n",
        "\n",
        "\n"
      ],
      "metadata": {
        "id": "wRFVtPDv4RiN",
        "colab": {
          "base_uri": "https://localhost:8080/"
        },
        "outputId": "ea948b77-3f96-4272-de34-6ea2239f3c52"
      },
      "execution_count": null,
      "outputs": [
        {
          "output_type": "stream",
          "name": "stdout",
          "text": [
            "\n",
            "Begin TSP simulated annealing demo \n",
            "\n",
            "Setting num_cities = 20 \n",
            "\n",
            "Optimal solution is 0, 1, 2, . . 19\n",
            "Optimal solution has total distance = 19.0 \n",
            "\n",
            "Settings: \n",
            "max_iter = 2500 \n",
            "start_temperature = 10000.0 \n",
            "alpha = 0.99 \n",
            "\n",
            "Starting solve() \n",
            "Initial guess:\n",
            "[19  3 18  6 13  4  0 17 12 11 15 10  9  2 16  7  8  1  5 14]\n",
            "Finished solve() \n",
            "\n",
            "Best solution found: \n",
            "[19  3 18 15 13  4  0 17 12 11  6 10  9  2 16  7  8  1  5 14]\n",
            "\n",
            "Total distance = 167.5 \n",
            "\n",
            "End demo \n"
          ]
        }
      ]
    },
    {
      "cell_type": "code",
      "source": [
        "\n",
        "import numpy as np\n",
        "\n",
        "def total_dist(route):\n",
        "  d = 0.0  # total distance between cities\n",
        "  n = len(route)\n",
        "  for i in range(n-1):\n",
        "    if route[i] < route[i+1]:\n",
        "      d += (route[i+1] - route[i]) * 1.0\n",
        "    else:\n",
        "      d += (route[i] - route[i+1]) * 1.5\n",
        "  return d\n",
        "\n",
        "def error(route):\n",
        "  n = len(route)\n",
        "  d = total_dist(route)\n",
        "  min_dist = n-1\n",
        "  return d - min_dist\n",
        "\n",
        "def adjacent(route, rnd):\n",
        "  n = len(route)\n",
        "  result = np.copy(route)\n",
        "  i = rnd.randint(n); j = rnd.randint(n)\n",
        "  tmp = result[i]\n",
        "  result[i] = result[j]; result[j] = tmp\n",
        "  return result\n",
        "\n",
        "def solve(n_cities, rnd, max_iter, \n",
        "  start_temperature, alpha):\n",
        "  # solve using simulated annealing\n",
        "  curr_temperature = start_temperature\n",
        "  soln = np.arange(n_cities, dtype=np.int64)\n",
        "  rnd.shuffle(soln)\n",
        "  print(\"Initial guess: \")\n",
        "  print(soln)\n",
        "\n",
        "  err = error(soln)\n",
        "  iteration = 0\n",
        "  interval = (int)(max_iter / 10)\n",
        "  while iteration < max_iter and err > 0.0:\n",
        "    adj_route = adjacent(soln, rnd)\n",
        "    adj_err = error(adj_route)\n",
        "\n",
        "    if adj_err < err:  # better route so accept\n",
        "      soln = adj_route; err = adj_err\n",
        "    else:          # adjacent is worse\n",
        "      accept_p = \\\n",
        "        np.exp((err - adj_err) / curr_temperature)\n",
        "      p = rnd.random()\n",
        "      if p < accept_p:  # accept anyway\n",
        "        soln = adj_route; err = adj_err \n",
        "      # else don't accept\n",
        "\n",
        "    if iteration % interval == 0:\n",
        "      print(\"iter = %6d | curr error = %7.2f | \\\n",
        "      temperature = %10.4f \" % \\\n",
        "      (iteration, err, curr_temperature))\n",
        "\n",
        "    if curr_temperature < 0.00001:\n",
        "      curr_temperature = 0.00001\n",
        "    else:\n",
        "      curr_temperature *= alpha\n",
        "    iteration += 1\n",
        "\n",
        "  return soln       \n",
        "\n",
        "def main():\n",
        "  print(\"\\nBegin TSP simulated annealing demo \")\n",
        "\n",
        "  num_cities = 20\n",
        "  print(\"\\nSetting num_cities = %d \" % num_cities)\n",
        "  print(\"\\nOptimal solution is 0, 1, 2, . . \" + \\\n",
        "    str(num_cities-1))\n",
        "  print(\"Optimal solution has total distance = %0.1f \" \\\n",
        "    % (num_cities-1))\n",
        "  rnd = np.random.RandomState(4) \n",
        "  max_iter = 2500\n",
        "  start_temperature = 10000.0\n",
        "  alpha = 0.99\n",
        "\n",
        "  print(\"\\nSettings: \")\n",
        "  print(\"max_iter = %d \" % max_iter)\n",
        "  print(\"start_temperature = %0.1f \" \\\n",
        "    % start_temperature)\n",
        "  print(\"alpha = %0.2f \" % alpha)\n",
        "  \n",
        "  print(\"\\nStarting solve() \")\n",
        "  soln = solve(num_cities, rnd, max_iter, \n",
        "    start_temperature, alpha)\n",
        "  print(\"Finished solve() \")\n",
        "\n",
        "  print(\"\\nBest solution found: \")\n",
        "  print(soln)\n",
        "  dist = total_dist(soln)\n",
        "  print(\"\\nTotal distance = %0.1f \" % dist)\n",
        "\n",
        "  print(\"\\nEnd demo \")\n",
        "\n",
        "if __name__ == \"__main__\":\n",
        "  main()\n"
      ],
      "metadata": {
        "colab": {
          "base_uri": "https://localhost:8080/"
        },
        "id": "lvnu13_9-myA",
        "outputId": "fe538ca8-ca1b-4f01-8756-42eb79acbfd8"
      },
      "execution_count": null,
      "outputs": [
        {
          "output_type": "stream",
          "name": "stdout",
          "text": [
            "\n",
            "Begin TSP simulated annealing demo \n",
            "\n",
            "Setting num_cities = 20 \n",
            "\n",
            "Optimal solution is 0, 1, 2, . . 19\n",
            "Optimal solution has total distance = 19.0 \n",
            "\n",
            "Settings: \n",
            "max_iter = 2500 \n",
            "start_temperature = 10000.0 \n",
            "alpha = 0.99 \n",
            "\n",
            "Starting solve() \n",
            "Initial guess: \n",
            "[19  3 18  6 13  4  0 17 12 11 15 10  9  2 16  7  8  1  5 14]\n",
            "iter =      0 | curr error =  148.50 |       temperature = 10000.0000 \n",
            "iter =    250 | curr error =  119.50 |       temperature =   810.5852 \n",
            "iter =    500 | curr error =  137.50 |       temperature =    65.7048 \n",
            "iter =    750 | curr error =   73.00 |       temperature =     5.3259 \n",
            "iter =   1000 | curr error =   32.50 |       temperature =     0.4317 \n",
            "iter =   1250 | curr error =   25.00 |       temperature =     0.0350 \n",
            "iter =   1500 | curr error =   20.00 |       temperature =     0.0028 \n",
            "iter =   1750 | curr error =   17.50 |       temperature =     0.0002 \n",
            "iter =   2000 | curr error =   12.50 |       temperature =     0.0000 \n",
            "iter =   2250 | curr error =    5.00 |       temperature =     0.0000 \n",
            "Finished solve() \n",
            "\n",
            "Best solution found: \n",
            "[ 0  1  2  3  4  5  6  7  9  8 10 11 12 13 14 15 16 17 18 19]\n",
            "\n",
            "Total distance = 21.5 \n",
            "\n",
            "End demo \n"
          ]
        }
      ]
    }
  ]
}