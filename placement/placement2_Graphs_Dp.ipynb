{
  "cells": [
    {
      "cell_type": "markdown",
      "metadata": {
        "id": "3W8CGznhQ9D1"
      },
      "source": [
        "Graphs in python"
      ]
    },
    {
      "cell_type": "code",
      "execution_count": null,
      "metadata": {
        "colab": {
          "base_uri": "https://localhost:8080/"
        },
        "id": "deyriv8iHanW",
        "outputId": "7061bdb3-77fa-4b72-c124-4ee298ea0b70"
      },
      "outputs": [
        {
          "name": "stdout",
          "output_type": "stream",
          "text": [
            "[1, 1, 0, 0, 0, 0]\n",
            "[1, 0, 0, 0, 0, 0]\n",
            "[0, 0, 0, 0, 0, 0]\n",
            "[0, 0, 0, 0, 0, 0]\n",
            "[0, 0, 0, 0, 0, 0]\n",
            "[0, 0, 0, 0, 0, 0]\n"
          ]
        }
      ],
      "source": [
        "input= [[0,0],[0,1],[0,0],[0,0],[0,0],[0,0],[0,0]]\n",
        "n = 6\n",
        "list = []\n",
        "for i in range(6):\n",
        "  temp = []\n",
        "  for j in range(6):\n",
        "    temp.append(0)\n",
        "  list.append(temp)\n",
        "\n",
        "for (u,v) in input:\n",
        "  list[u][v] = 1\n",
        "  list[v][u] =1\n",
        "for item in list:\n",
        "  print(item)\n",
        "\n",
        "\n"
      ]
    },
    {
      "cell_type": "code",
      "execution_count": null,
      "metadata": {
        "colab": {
          "base_uri": "https://localhost:8080/"
        },
        "id": "Yh_yKGUnUMJZ",
        "outputId": "d7096cf4-65e7-4214-e0bc-752995b5a7b0"
      },
      "outputs": [
        {
          "name": "stdout",
          "output_type": "stream",
          "text": [
            "{0: [0, 0, 1, 0, 0, 0, 0, 0, 0, 0, 0, 0, 0], 1: [0], 2: [], 3: [], 4: [], 5: []}\n",
            "0\n",
            "1\n",
            "2\n",
            "3\n",
            "4\n",
            "5\n"
          ]
        }
      ],
      "source": [
        "#Represent graph using adjacent list with dictonary\n",
        "input= [[0,0],[0,1],[0,0],[0,0],[0,0],[0,0],[0,0]]\n",
        "n = 6\n",
        "graph = {}\n",
        "\n",
        "for i in range(6):\n",
        "  graph[i] =[]\n",
        "#this is used for adding the value of u,v\n",
        "\n",
        "for (u,v) in input:\n",
        "  graph[u].append(v)\n",
        "  graph[v].append(u)\n",
        "print(graph)\n",
        "\n",
        "for item in graph:\n",
        "  print(item)"
      ]
    },
    {
      "cell_type": "markdown",
      "metadata": {
        "id": "GMTofIFNZN81"
      },
      "source": [
        "DFS(DEPTH FIRST SEARCH)"
      ]
    },
    {
      "cell_type": "code",
      "execution_count": null,
      "metadata": {
        "colab": {
          "base_uri": "https://localhost:8080/"
        },
        "id": "MKusjRwxQ5uq",
        "outputId": "d171c040-d60e-469e-b103-78d173582f19"
      },
      "outputs": [
        {
          "name": "stdout",
          "output_type": "stream",
          "text": [
            "2\n",
            "1\n",
            "5\n",
            "4\n",
            "3\n",
            "6\n"
          ]
        }
      ],
      "source": [
        "\n",
        "def dfs(graph,node,visited=set()):\n",
        "  print(node)\n",
        "  visited.add(node)\n",
        "  for child in graph[node]:\n",
        "    # print(graph[node])\n",
        "    if child not in  visited:\n",
        "      dfs(graph,child,visited)\n",
        "  # print(graph)\n",
        "\n",
        "input= [[1,2], [1,5], [2,3], [2,4], [2,5], [3,4], [3,6], [4,5], [4,6], [5, 6]]\n",
        "\n",
        "graph = {}\n",
        "n =6\n",
        "for i in range(1,n+1):\n",
        "  graph[i]= []\n",
        "for (u,v) in input:\n",
        "  graph[u].append(v)\n",
        "  graph[v].append(u)\n",
        "\n",
        "dfs(graph,2)"
      ]
    },
    {
      "cell_type": "code",
      "source": [
        "s = \"abcabc\"\n",
        "for i in range(len(s)):\n",
        "  # print(s[i])\n",
        "  count=0\n",
        "  if s[i] == \"a\":\n",
        "    # print(s[i]) \n",
        "    count +=1\n",
        "  print(count)\n",
        "  # pp = s.split(\" \")\n",
        "# count = 0\n",
        "# l = []\n",
        "# for i in range(len(s)):\n",
        "#   if \"a\" in s :\n",
        "#     print()\n",
        "#     count +=1\n",
        "#     i +=1\n",
        "# print(count)\n"
      ],
      "metadata": {
        "colab": {
          "base_uri": "https://localhost:8080/"
        },
        "id": "8wrjImVZBSHM",
        "outputId": "1c06d1ba-57fd-465d-a88a-19177d3ada4f"
      },
      "execution_count": null,
      "outputs": [
        {
          "output_type": "stream",
          "name": "stdout",
          "text": [
            "1\n",
            "0\n",
            "0\n",
            "1\n",
            "0\n",
            "0\n"
          ]
        }
      ]
    },
    {
      "cell_type": "code",
      "source": [],
      "metadata": {
        "id": "95KVsGOA_ZlN"
      },
      "execution_count": null,
      "outputs": []
    },
    {
      "cell_type": "code",
      "source": [],
      "metadata": {
        "colab": {
          "base_uri": "https://localhost:8080/",
          "height": 372
        },
        "id": "n1eiUaM1EiMJ",
        "outputId": "c6751aab-6716-4ac3-dbf9-c1db99f49b08"
      },
      "execution_count": null,
      "outputs": [
        {
          "output_type": "error",
          "ename": "KeyError",
          "evalue": "ignored",
          "traceback": [
            "\u001b[0;31m---------------------------------------------------------------------------\u001b[0m",
            "\u001b[0;31mKeyError\u001b[0m                                  Traceback (most recent call last)",
            "\u001b[0;32m<ipython-input-12-bd1c44d334b0>\u001b[0m in \u001b[0;36m<module>\u001b[0;34m\u001b[0m\n\u001b[1;32m     16\u001b[0m \u001b[0;34m\u001b[0m\u001b[0m\n\u001b[1;32m     17\u001b[0m \u001b[0;32mif\u001b[0m \u001b[0m__name__\u001b[0m \u001b[0;34m==\u001b[0m \u001b[0;34m'__main__'\u001b[0m\u001b[0;34m:\u001b[0m\u001b[0;34m\u001b[0m\u001b[0;34m\u001b[0m\u001b[0m\n\u001b[0;32m---> 18\u001b[0;31m     \u001b[0mfptr\u001b[0m \u001b[0;34m=\u001b[0m \u001b[0mopen\u001b[0m\u001b[0;34m(\u001b[0m\u001b[0mos\u001b[0m\u001b[0;34m.\u001b[0m\u001b[0menviron\u001b[0m\u001b[0;34m[\u001b[0m\u001b[0;34m'OUTPUT_PATH'\u001b[0m\u001b[0;34m]\u001b[0m\u001b[0;34m,\u001b[0m \u001b[0;34m'w'\u001b[0m\u001b[0;34m)\u001b[0m\u001b[0;34m\u001b[0m\u001b[0;34m\u001b[0m\u001b[0m\n\u001b[0m\u001b[1;32m     19\u001b[0m \u001b[0;34m\u001b[0m\u001b[0m\n\u001b[1;32m     20\u001b[0m     \u001b[0ms\u001b[0m \u001b[0;34m=\u001b[0m \u001b[0minput\u001b[0m\u001b[0;34m(\u001b[0m\u001b[0;34m)\u001b[0m\u001b[0;34m\u001b[0m\u001b[0;34m\u001b[0m\u001b[0m\n",
            "\u001b[0;32m/usr/lib/python3.7/os.py\u001b[0m in \u001b[0;36m__getitem__\u001b[0;34m(self, key)\u001b[0m\n\u001b[1;32m    679\u001b[0m         \u001b[0;32mexcept\u001b[0m \u001b[0mKeyError\u001b[0m\u001b[0;34m:\u001b[0m\u001b[0;34m\u001b[0m\u001b[0;34m\u001b[0m\u001b[0m\n\u001b[1;32m    680\u001b[0m             \u001b[0;31m# raise KeyError with the original key value\u001b[0m\u001b[0;34m\u001b[0m\u001b[0;34m\u001b[0m\u001b[0;34m\u001b[0m\u001b[0m\n\u001b[0;32m--> 681\u001b[0;31m             \u001b[0;32mraise\u001b[0m \u001b[0mKeyError\u001b[0m\u001b[0;34m(\u001b[0m\u001b[0mkey\u001b[0m\u001b[0;34m)\u001b[0m \u001b[0;32mfrom\u001b[0m \u001b[0;32mNone\u001b[0m\u001b[0;34m\u001b[0m\u001b[0;34m\u001b[0m\u001b[0m\n\u001b[0m\u001b[1;32m    682\u001b[0m         \u001b[0;32mreturn\u001b[0m \u001b[0mself\u001b[0m\u001b[0;34m.\u001b[0m\u001b[0mdecodevalue\u001b[0m\u001b[0;34m(\u001b[0m\u001b[0mvalue\u001b[0m\u001b[0;34m)\u001b[0m\u001b[0;34m\u001b[0m\u001b[0;34m\u001b[0m\u001b[0m\n\u001b[1;32m    683\u001b[0m \u001b[0;34m\u001b[0m\u001b[0m\n",
            "\u001b[0;31mKeyError\u001b[0m: 'OUTPUT_PATH'"
          ]
        }
      ]
    },
    {
      "cell_type": "code",
      "execution_count": null,
      "metadata": {
        "colab": {
          "base_uri": "https://localhost:8080/"
        },
        "id": "oRbjAfj0zW0a",
        "outputId": "321fd321-a0cb-417b-ef88-a005072616b3"
      },
      "outputs": [
        {
          "name": "stdout",
          "output_type": "stream",
          "text": [
            "{1: [2, 5], 2: [1, 3, 4, 5], 3: [2, 4, 6], 4: [2, 3, 5, 6], 5: [1, 2, 4, 6], 6: [3, 4, 5]}\n",
            "1\n",
            "2\n",
            "5\n",
            "3\n",
            "4\n",
            "6\n"
          ]
        }
      ],
      "source": [
        "def breadfirstsearch(graph,visited):\n",
        "  #so here for bfs we go along the levels of graph and print them \n",
        "  queue = []\n",
        "  queue.append(1)\n",
        "  visited[1]= True\n",
        "  while queue:\n",
        "    temp = queue.pop(0)   \n",
        "    print(temp)\n",
        "    for child in graph[temp]:\n",
        "      if not visited[child]:\n",
        "        queue.append(child)\n",
        "        visited[child] = True\n",
        "\n",
        "\n",
        "\n",
        "\n",
        "input= [[1,2], [1,5], [2,3], [2,4], [2,5], [3,4], [3,6], [4,5], [4,6], [5, 6]]\n",
        "\n",
        "graph={}\n",
        "visited = {} #dictonary\n",
        "n = 6 \n",
        "for i in range(1,n+1):\n",
        "  visited[i] = []\n",
        "  graph[i]= []\n",
        "for (u,v) in input:\n",
        "  graph[u].append(v)\n",
        "  graph[v].append(u)\n",
        "print(graph)\n",
        "breadfirstsearch(graph,visited)\n",
        "  "
      ]
    },
    {
      "cell_type": "markdown",
      "metadata": {
        "id": "YjkOAZVvQ7wS"
      },
      "source": []
    },
    {
      "cell_type": "code",
      "execution_count": null,
      "metadata": {
        "colab": {
          "base_uri": "https://localhost:8080/"
        },
        "id": "DsC6LL32i5up",
        "outputId": "9f316388-acdf-4d5c-bc5b-dfc68e7312f1"
      },
      "outputs": [
        {
          "name": "stdout",
          "output_type": "stream",
          "text": [
            "{'A': ['B', 'C'], 'B': ['A'], 'C': ['A', 'E', 'F'], 'D': [], 'E': ['C'], 'F': ['C'], 'G': [], 'H': [], 'I': []}\n"
          ]
        }
      ],
      "source": [
        "#single source shortest path in the graph \n",
        "\n",
        "def \n",
        "\n",
        "\n",
        "edges = [['A','B'],['A','C'],['C','E'],['C','F']]\n",
        "nodes = ['A','B','C','D','E','F','G','F','H','I']\n",
        "graph = {}\n",
        "distance = {}\n",
        "n = 6\n",
        "\n",
        "# for key in distance:\n",
        "\n",
        "for key in nodes:\n",
        "  graph[key] = []\n",
        "  distance[key] = None\n",
        "\n",
        "\n",
        "for (u,v) in edges:\n",
        "  graph[u].append(v)\n",
        "  graph[v].append(u)\n",
        "print(graph)"
      ]
    },
    {
      "cell_type": "code",
      "execution_count": null,
      "metadata": {
        "colab": {
          "base_uri": "https://localhost:8080/"
        },
        "id": "XuxIkHiot1C1",
        "outputId": "ff56e902-da58-49d3-9f97-b787b3c79128"
      },
      "outputs": [
        {
          "name": "stdout",
          "output_type": "stream",
          "text": [
            "4.0\n"
          ]
        }
      ],
      "source": [
        "def average(a,b,c):\n",
        "  return(a+b+c)/3\n",
        "\n",
        "avg = average(4,4,4)\n",
        "print(avg)"
      ]
    },
    {
      "cell_type": "code",
      "execution_count": null,
      "metadata": {
        "colab": {
          "base_uri": "https://localhost:8080/"
        },
        "id": "r8aq_cjWcr3h",
        "outputId": "462772ec-27f6-4bb2-b1f8-e8ac497c4f98"
      },
      "outputs": [
        {
          "name": "stdout",
          "output_type": "stream",
          "text": [
            "****\n",
            "***\n",
            "**\n",
            "*\n"
          ]
        }
      ],
      "source": [
        "#printing starts at \n",
        "def stars(n):\n",
        "  for i in range(n):\n",
        "    print(\"*\" * (n-i))\n",
        "  \n",
        "stars(4)"
      ]
    },
    {
      "cell_type": "code",
      "execution_count": null,
      "metadata": {
        "colab": {
          "base_uri": "https://localhost:8080/"
        },
        "id": "XFLoDi7Hgd9q",
        "outputId": "95255e91-38af-4f77-846b-d9e3d30ce2d1"
      },
      "outputs": [
        {
          "name": "stdout",
          "output_type": "stream",
          "text": [
            "talli\n",
            "['mano', 'shiva']\n",
            "<class 'list'>\n"
          ]
        }
      ],
      "source": [
        "def remove_word(list,word):\n",
        "  word = word.strip()\n",
        "  # print(word)\n",
        "  list = [\"mano\",\"shiva\",\"talli\"]\n",
        "  list.remove(word)\n",
        "  print(list)\n",
        "  return list\n",
        "  # return remove_word\n",
        "  \n",
        "\n",
        "remove_word(list,\"talli\")\n",
        "print(list)\n"
      ]
    },
    {
      "cell_type": "code",
      "execution_count": null,
      "metadata": {
        "colab": {
          "base_uri": "https://localhost:8080/"
        },
        "id": "-RdUFPVbiLDY",
        "outputId": "1063fd39-620b-4959-9987-af5f7a875491"
      },
      "outputs": [
        {
          "name": "stdout",
          "output_type": "stream",
          "text": [
            "('snake', 'water', 'gun')\n",
            "chooose one of the option :snake,water,gun gun\n",
            "The computer has chosen gun gun\n",
            "You have chosen gun and hte computer hs chosengun\n",
            "Draw match\n"
          ]
        }
      ],
      "source": [
        "import random\n",
        "def snake_game(comp,mine):\n",
        "  if comp == mine :\n",
        "    return None\n",
        "  if comp == \"gun\" and mine == \"water\":\n",
        "    return True\n",
        "  elif comp == \"snake\" and mine == \"water\":\n",
        "    return True\n",
        "  elif comp == \"water\" and mine == \"snake\":\n",
        "    return True\n",
        "  else :\n",
        "    return False \n",
        "\n",
        "\n",
        "choices = (\"snake\",\"water\",\"gun\")\n",
        "\n",
        "comp = random.randint(0,2)\n",
        "comp = choices[comp]#how do i map it with the choices\n",
        "\n",
        "print(choices)\n",
        "mine = input(\"chooose one of the option :snake,water,gun \")\n",
        "print(\"The computer has chosen\",comp, mine )\n",
        "\n",
        "win = snake_game(comp,mine)\n",
        "print(f\"You have chosen {mine} and hte computer hs chosen{comp}\")\n",
        "if win is True:\n",
        "  print(\"yeah I won \")\n",
        "if win is False :\n",
        "  print(\"I lost\")\n",
        "if win is None :\n",
        "  print(\"Draw match\")\n",
        "snake_game(comp,mine)\n"
      ]
    },
    {
      "cell_type": "code",
      "execution_count": null,
      "metadata": {
        "colab": {
          "base_uri": "https://localhost:8080/",
          "height": 244
        },
        "id": "4XY8Ix_7qZFs",
        "outputId": "57525060-e8e3-4242-cb25-44cbaf5b8201"
      },
      "outputs": [
        {
          "output_type": "error",
          "ename": "ValueError",
          "evalue": "ignored",
          "traceback": [
            "\u001b[0;31m---------------------------------------------------------------------------\u001b[0m",
            "\u001b[0;31mValueError\u001b[0m                                Traceback (most recent call last)",
            "\u001b[0;32m<ipython-input-4-6043d4ed819a>\u001b[0m in \u001b[0;36m<module>\u001b[0;34m\u001b[0m\n\u001b[1;32m     13\u001b[0m         \u001b[0minputFile\u001b[0m \u001b[0;34m=\u001b[0m \u001b[0msys\u001b[0m\u001b[0;34m.\u001b[0m\u001b[0margv\u001b[0m\u001b[0;34m[\u001b[0m\u001b[0;36m1\u001b[0m\u001b[0;34m]\u001b[0m\u001b[0;34m\u001b[0m\u001b[0;34m\u001b[0m\u001b[0m\n\u001b[1;32m     14\u001b[0m         \u001b[0mn\u001b[0m \u001b[0;34m=\u001b[0m \u001b[0msys\u001b[0m\u001b[0;34m.\u001b[0m\u001b[0margv\u001b[0m\u001b[0;34m[\u001b[0m\u001b[0;36m2\u001b[0m\u001b[0;34m]\u001b[0m\u001b[0;34m\u001b[0m\u001b[0;34m\u001b[0m\u001b[0m\n\u001b[0;32m---> 15\u001b[0;31m         \u001b[0mli\u001b[0m \u001b[0;34m=\u001b[0m\u001b[0mint\u001b[0m\u001b[0;34m(\u001b[0m\u001b[0mn\u001b[0m\u001b[0;34m)\u001b[0m\u001b[0;34m\u001b[0m\u001b[0;34m\u001b[0m\u001b[0m\n\u001b[0m\u001b[1;32m     16\u001b[0m         \u001b[0;32mwith\u001b[0m \u001b[0mopen\u001b[0m\u001b[0;34m(\u001b[0m\u001b[0minputFile\u001b[0m\u001b[0;34m,\u001b[0m \u001b[0;34m'r'\u001b[0m\u001b[0;34m)\u001b[0m \u001b[0;32mas\u001b[0m \u001b[0mf\u001b[0m\u001b[0;34m:\u001b[0m\u001b[0;34m\u001b[0m\u001b[0;34m\u001b[0m\u001b[0m\n\u001b[1;32m     17\u001b[0m                 \u001b[0minputString\u001b[0m \u001b[0;34m=\u001b[0m \u001b[0mf\u001b[0m\u001b[0;34m.\u001b[0m\u001b[0mread\u001b[0m\u001b[0;34m(\u001b[0m\u001b[0;34m)\u001b[0m\u001b[0;34m\u001b[0m\u001b[0;34m\u001b[0m\u001b[0m\n",
            "\u001b[0;31mValueError\u001b[0m: invalid literal for int() with base 10: '/root/.local/share/jupyter/runtime/kernel-091af5b3-0a9a-4d21-aeab-7a51c59f3589.json'"
          ]
        }
      ],
      "source": [
        "import sys\n",
        "\n",
        "# Do not change the name of the function. \n",
        "# Do not use global variables as we will run your code on multiple test cases.\n",
        "# \n",
        "def solve(inputString, n):\n",
        "\tinputString.split(\"\\n\")\n",
        "  # return None\n",
        "\n",
        "\n",
        "# Main function: do NOT change this.\n",
        "if __name__==\"__main__\":\n",
        "\tinputFile = sys.argv[1]\n",
        "\tn = sys.argv[2]\n",
        "\tli =int(n)\n",
        "\twith open(inputFile, 'r') as f:\n",
        "\t\tinputString = f.read()\n",
        "\t\tprint(solve(inputString, n))"
      ]
    },
    {
      "cell_type": "code",
      "execution_count": null,
      "metadata": {
        "id": "cY5FRRMNxwu8"
      },
      "outputs": [],
      "source": [
        "import random \n",
        "\n",
        "def game():# guessing any random value and if hte value is greater than \n",
        " #increase/update the value in txt file with new one \n",
        "  score = random.randint(1,100)\n",
        "  print(f\"Your socre is {score}\")\n",
        "\n",
        "score = game()\n",
        "with open(\"hiscore.txt\",\"r\") as f :\n",
        "  high = int(f.read())\n",
        "  if high < score:\n",
        "    with open(\"hiscore.txt\",\"w\") as f:\n",
        "      high = f.write(str(score))\n",
        "\n"
      ]
    },
    {
      "cell_type": "code",
      "execution_count": null,
      "metadata": {
        "colab": {
          "background_save": true,
          "base_uri": "https://localhost:8080/"
        },
        "id": "IrGDQc_3NZyH",
        "outputId": "b7d44cb2-f838-4347-c912-f277cb96ead2"
      },
      "outputs": [
        {
          "name": "stdout",
          "output_type": "stream",
          "text": [
            "2 X 1 = 2\n",
            "2 X 1 = 22 X 2 = 4\n",
            "2 X 1 = 22 X 2 = 42 X 3 = 6\n",
            "2 X 1 = 22 X 2 = 42 X 3 = 62 X 4 = 8\n",
            "2 X 1 = 22 X 2 = 42 X 3 = 62 X 4 = 82 X 5 = 10\n",
            "2 X 1 = 22 X 2 = 42 X 3 = 62 X 4 = 82 X 5 = 102 X 6 = 12\n",
            "2 X 1 = 22 X 2 = 42 X 3 = 62 X 4 = 82 X 5 = 102 X 6 = 122 X 7 = 14\n",
            "2 X 1 = 22 X 2 = 42 X 3 = 62 X 4 = 82 X 5 = 102 X 6 = 122 X 7 = 142 X 8 = 16\n",
            "2 X 1 = 22 X 2 = 42 X 3 = 62 X 4 = 82 X 5 = 102 X 6 = 122 X 7 = 142 X 8 = 162 X 9 = 18\n",
            "2 X 1 = 22 X 2 = 42 X 3 = 62 X 4 = 82 X 5 = 102 X 6 = 122 X 7 = 142 X 8 = 162 X 9 = 182 X 10 = 20\n",
            "3 X 1 = 3\n",
            "3 X 1 = 33 X 2 = 6\n",
            "3 X 1 = 33 X 2 = 63 X 3 = 9\n",
            "3 X 1 = 33 X 2 = 63 X 3 = 93 X 4 = 12\n",
            "3 X 1 = 33 X 2 = 63 X 3 = 93 X 4 = 123 X 5 = 15\n",
            "3 X 1 = 33 X 2 = 63 X 3 = 93 X 4 = 123 X 5 = 153 X 6 = 18\n",
            "3 X 1 = 33 X 2 = 63 X 3 = 93 X 4 = 123 X 5 = 153 X 6 = 183 X 7 = 21\n",
            "3 X 1 = 33 X 2 = 63 X 3 = 93 X 4 = 123 X 5 = 153 X 6 = 183 X 7 = 213 X 8 = 24\n",
            "3 X 1 = 33 X 2 = 63 X 3 = 93 X 4 = 123 X 5 = 153 X 6 = 183 X 7 = 213 X 8 = 243 X 9 = 27\n",
            "3 X 1 = 33 X 2 = 63 X 3 = 93 X 4 = 123 X 5 = 153 X 6 = 183 X 7 = 213 X 8 = 243 X 9 = 273 X 10 = 30\n",
            "4 X 1 = 4\n",
            "4 X 1 = 44 X 2 = 8\n",
            "4 X 1 = 44 X 2 = 84 X 3 = 12\n",
            "4 X 1 = 44 X 2 = 84 X 3 = 124 X 4 = 16\n",
            "4 X 1 = 44 X 2 = 84 X 3 = 124 X 4 = 164 X 5 = 20\n",
            "4 X 1 = 44 X 2 = 84 X 3 = 124 X 4 = 164 X 5 = 204 X 6 = 24\n",
            "4 X 1 = 44 X 2 = 84 X 3 = 124 X 4 = 164 X 5 = 204 X 6 = 244 X 7 = 28\n",
            "4 X 1 = 44 X 2 = 84 X 3 = 124 X 4 = 164 X 5 = 204 X 6 = 244 X 7 = 284 X 8 = 32\n",
            "4 X 1 = 44 X 2 = 84 X 3 = 124 X 4 = 164 X 5 = 204 X 6 = 244 X 7 = 284 X 8 = 324 X 9 = 36\n",
            "4 X 1 = 44 X 2 = 84 X 3 = 124 X 4 = 164 X 5 = 204 X 6 = 244 X 7 = 284 X 8 = 324 X 9 = 364 X 10 = 40\n",
            "5 X 1 = 5\n",
            "5 X 1 = 55 X 2 = 10\n",
            "5 X 1 = 55 X 2 = 105 X 3 = 15\n",
            "5 X 1 = 55 X 2 = 105 X 3 = 155 X 4 = 20\n",
            "5 X 1 = 55 X 2 = 105 X 3 = 155 X 4 = 205 X 5 = 25\n",
            "5 X 1 = 55 X 2 = 105 X 3 = 155 X 4 = 205 X 5 = 255 X 6 = 30\n",
            "5 X 1 = 55 X 2 = 105 X 3 = 155 X 4 = 205 X 5 = 255 X 6 = 305 X 7 = 35\n",
            "5 X 1 = 55 X 2 = 105 X 3 = 155 X 4 = 205 X 5 = 255 X 6 = 305 X 7 = 355 X 8 = 40\n",
            "5 X 1 = 55 X 2 = 105 X 3 = 155 X 4 = 205 X 5 = 255 X 6 = 305 X 7 = 355 X 8 = 405 X 9 = 45\n",
            "5 X 1 = 55 X 2 = 105 X 3 = 155 X 4 = 205 X 5 = 255 X 6 = 305 X 7 = 355 X 8 = 405 X 9 = 455 X 10 = 50\n",
            "6 X 1 = 6\n",
            "6 X 1 = 66 X 2 = 12\n",
            "6 X 1 = 66 X 2 = 126 X 3 = 18\n",
            "6 X 1 = 66 X 2 = 126 X 3 = 186 X 4 = 24\n",
            "6 X 1 = 66 X 2 = 126 X 3 = 186 X 4 = 246 X 5 = 30\n",
            "6 X 1 = 66 X 2 = 126 X 3 = 186 X 4 = 246 X 5 = 306 X 6 = 36\n",
            "6 X 1 = 66 X 2 = 126 X 3 = 186 X 4 = 246 X 5 = 306 X 6 = 366 X 7 = 42\n",
            "6 X 1 = 66 X 2 = 126 X 3 = 186 X 4 = 246 X 5 = 306 X 6 = 366 X 7 = 426 X 8 = 48\n",
            "6 X 1 = 66 X 2 = 126 X 3 = 186 X 4 = 246 X 5 = 306 X 6 = 366 X 7 = 426 X 8 = 486 X 9 = 54\n",
            "6 X 1 = 66 X 2 = 126 X 3 = 186 X 4 = 246 X 5 = 306 X 6 = 366 X 7 = 426 X 8 = 486 X 9 = 546 X 10 = 60\n",
            "7 X 1 = 7\n",
            "7 X 1 = 77 X 2 = 14\n",
            "7 X 1 = 77 X 2 = 147 X 3 = 21\n",
            "7 X 1 = 77 X 2 = 147 X 3 = 217 X 4 = 28\n",
            "7 X 1 = 77 X 2 = 147 X 3 = 217 X 4 = 287 X 5 = 35\n",
            "7 X 1 = 77 X 2 = 147 X 3 = 217 X 4 = 287 X 5 = 357 X 6 = 42\n",
            "7 X 1 = 77 X 2 = 147 X 3 = 217 X 4 = 287 X 5 = 357 X 6 = 427 X 7 = 49\n",
            "7 X 1 = 77 X 2 = 147 X 3 = 217 X 4 = 287 X 5 = 357 X 6 = 427 X 7 = 497 X 8 = 56\n",
            "7 X 1 = 77 X 2 = 147 X 3 = 217 X 4 = 287 X 5 = 357 X 6 = 427 X 7 = 497 X 8 = 567 X 9 = 63\n",
            "7 X 1 = 77 X 2 = 147 X 3 = 217 X 4 = 287 X 5 = 357 X 6 = 427 X 7 = 497 X 8 = 567 X 9 = 637 X 10 = 70\n",
            "8 X 1 = 8\n",
            "8 X 1 = 88 X 2 = 16\n",
            "8 X 1 = 88 X 2 = 168 X 3 = 24\n",
            "8 X 1 = 88 X 2 = 168 X 3 = 248 X 4 = 32\n",
            "8 X 1 = 88 X 2 = 168 X 3 = 248 X 4 = 328 X 5 = 40\n",
            "8 X 1 = 88 X 2 = 168 X 3 = 248 X 4 = 328 X 5 = 408 X 6 = 48\n",
            "8 X 1 = 88 X 2 = 168 X 3 = 248 X 4 = 328 X 5 = 408 X 6 = 488 X 7 = 56\n",
            "8 X 1 = 88 X 2 = 168 X 3 = 248 X 4 = 328 X 5 = 408 X 6 = 488 X 7 = 568 X 8 = 64\n",
            "8 X 1 = 88 X 2 = 168 X 3 = 248 X 4 = 328 X 5 = 408 X 6 = 488 X 7 = 568 X 8 = 648 X 9 = 72\n",
            "8 X 1 = 88 X 2 = 168 X 3 = 248 X 4 = 328 X 5 = 408 X 6 = 488 X 7 = 568 X 8 = 648 X 9 = 728 X 10 = 80\n",
            "9 X 1 = 9\n",
            "9 X 1 = 99 X 2 = 18\n",
            "9 X 1 = 99 X 2 = 189 X 3 = 27\n",
            "9 X 1 = 99 X 2 = 189 X 3 = 279 X 4 = 36\n",
            "9 X 1 = 99 X 2 = 189 X 3 = 279 X 4 = 369 X 5 = 45\n",
            "9 X 1 = 99 X 2 = 189 X 3 = 279 X 4 = 369 X 5 = 459 X 6 = 54\n",
            "9 X 1 = 99 X 2 = 189 X 3 = 279 X 4 = 369 X 5 = 459 X 6 = 549 X 7 = 63\n",
            "9 X 1 = 99 X 2 = 189 X 3 = 279 X 4 = 369 X 5 = 459 X 6 = 549 X 7 = 639 X 8 = 72\n",
            "9 X 1 = 99 X 2 = 189 X 3 = 279 X 4 = 369 X 5 = 459 X 6 = 549 X 7 = 639 X 8 = 729 X 9 = 81\n",
            "9 X 1 = 99 X 2 = 189 X 3 = 279 X 4 = 369 X 5 = 459 X 6 = 549 X 7 = 639 X 8 = 729 X 9 = 819 X 10 = 90\n",
            "10 X 1 = 10\n",
            "10 X 1 = 1010 X 2 = 20\n",
            "10 X 1 = 1010 X 2 = 2010 X 3 = 30\n",
            "10 X 1 = 1010 X 2 = 2010 X 3 = 3010 X 4 = 40\n",
            "10 X 1 = 1010 X 2 = 2010 X 3 = 3010 X 4 = 4010 X 5 = 50\n",
            "10 X 1 = 1010 X 2 = 2010 X 3 = 3010 X 4 = 4010 X 5 = 5010 X 6 = 60\n",
            "10 X 1 = 1010 X 2 = 2010 X 3 = 3010 X 4 = 4010 X 5 = 5010 X 6 = 6010 X 7 = 70\n",
            "10 X 1 = 1010 X 2 = 2010 X 3 = 3010 X 4 = 4010 X 5 = 5010 X 6 = 6010 X 7 = 7010 X 8 = 80\n",
            "10 X 1 = 1010 X 2 = 2010 X 3 = 3010 X 4 = 4010 X 5 = 5010 X 6 = 6010 X 7 = 7010 X 8 = 8010 X 9 = 90\n",
            "10 X 1 = 1010 X 2 = 2010 X 3 = 3010 X 4 = 4010 X 5 = 5010 X 6 = 6010 X 7 = 7010 X 8 = 8010 X 9 = 9010 X 10 = 100\n",
            "11 X 1 = 11\n",
            "11 X 1 = 1111 X 2 = 22\n",
            "11 X 1 = 1111 X 2 = 2211 X 3 = 33\n",
            "11 X 1 = 1111 X 2 = 2211 X 3 = 3311 X 4 = 44\n",
            "11 X 1 = 1111 X 2 = 2211 X 3 = 3311 X 4 = 4411 X 5 = 55\n",
            "11 X 1 = 1111 X 2 = 2211 X 3 = 3311 X 4 = 4411 X 5 = 5511 X 6 = 66\n",
            "11 X 1 = 1111 X 2 = 2211 X 3 = 3311 X 4 = 4411 X 5 = 5511 X 6 = 6611 X 7 = 77\n",
            "11 X 1 = 1111 X 2 = 2211 X 3 = 3311 X 4 = 4411 X 5 = 5511 X 6 = 6611 X 7 = 7711 X 8 = 88\n",
            "11 X 1 = 1111 X 2 = 2211 X 3 = 3311 X 4 = 4411 X 5 = 5511 X 6 = 6611 X 7 = 7711 X 8 = 8811 X 9 = 99\n",
            "11 X 1 = 1111 X 2 = 2211 X 3 = 3311 X 4 = 4411 X 5 = 5511 X 6 = 6611 X 7 = 7711 X 8 = 8811 X 9 = 9911 X 10 = 110\n",
            "12 X 1 = 12\n",
            "12 X 1 = 1212 X 2 = 24\n",
            "12 X 1 = 1212 X 2 = 2412 X 3 = 36\n",
            "12 X 1 = 1212 X 2 = 2412 X 3 = 3612 X 4 = 48\n",
            "12 X 1 = 1212 X 2 = 2412 X 3 = 3612 X 4 = 4812 X 5 = 60\n",
            "12 X 1 = 1212 X 2 = 2412 X 3 = 3612 X 4 = 4812 X 5 = 6012 X 6 = 72\n",
            "12 X 1 = 1212 X 2 = 2412 X 3 = 3612 X 4 = 4812 X 5 = 6012 X 6 = 7212 X 7 = 84\n",
            "12 X 1 = 1212 X 2 = 2412 X 3 = 3612 X 4 = 4812 X 5 = 6012 X 6 = 7212 X 7 = 8412 X 8 = 96\n",
            "12 X 1 = 1212 X 2 = 2412 X 3 = 3612 X 4 = 4812 X 5 = 6012 X 6 = 7212 X 7 = 8412 X 8 = 9612 X 9 = 108\n",
            "12 X 1 = 1212 X 2 = 2412 X 3 = 3612 X 4 = 4812 X 5 = 6012 X 6 = 7212 X 7 = 8412 X 8 = 9612 X 9 = 10812 X 10 = 120\n",
            "13 X 1 = 13\n",
            "13 X 1 = 1313 X 2 = 26\n",
            "13 X 1 = 1313 X 2 = 2613 X 3 = 39\n",
            "13 X 1 = 1313 X 2 = 2613 X 3 = 3913 X 4 = 52\n",
            "13 X 1 = 1313 X 2 = 2613 X 3 = 3913 X 4 = 5213 X 5 = 65\n",
            "13 X 1 = 1313 X 2 = 2613 X 3 = 3913 X 4 = 5213 X 5 = 6513 X 6 = 78\n",
            "13 X 1 = 1313 X 2 = 2613 X 3 = 3913 X 4 = 5213 X 5 = 6513 X 6 = 7813 X 7 = 91\n",
            "13 X 1 = 1313 X 2 = 2613 X 3 = 3913 X 4 = 5213 X 5 = 6513 X 6 = 7813 X 7 = 9113 X 8 = 104\n",
            "13 X 1 = 1313 X 2 = 2613 X 3 = 3913 X 4 = 5213 X 5 = 6513 X 6 = 7813 X 7 = 9113 X 8 = 10413 X 9 = 117\n",
            "13 X 1 = 1313 X 2 = 2613 X 3 = 3913 X 4 = 5213 X 5 = 6513 X 6 = 7813 X 7 = 9113 X 8 = 10413 X 9 = 11713 X 10 = 130\n",
            "14 X 1 = 14\n",
            "14 X 1 = 1414 X 2 = 28\n",
            "14 X 1 = 1414 X 2 = 2814 X 3 = 42\n",
            "14 X 1 = 1414 X 2 = 2814 X 3 = 4214 X 4 = 56\n",
            "14 X 1 = 1414 X 2 = 2814 X 3 = 4214 X 4 = 5614 X 5 = 70\n",
            "14 X 1 = 1414 X 2 = 2814 X 3 = 4214 X 4 = 5614 X 5 = 7014 X 6 = 84\n",
            "14 X 1 = 1414 X 2 = 2814 X 3 = 4214 X 4 = 5614 X 5 = 7014 X 6 = 8414 X 7 = 98\n",
            "14 X 1 = 1414 X 2 = 2814 X 3 = 4214 X 4 = 5614 X 5 = 7014 X 6 = 8414 X 7 = 9814 X 8 = 112\n",
            "14 X 1 = 1414 X 2 = 2814 X 3 = 4214 X 4 = 5614 X 5 = 7014 X 6 = 8414 X 7 = 9814 X 8 = 11214 X 9 = 126\n",
            "14 X 1 = 1414 X 2 = 2814 X 3 = 4214 X 4 = 5614 X 5 = 7014 X 6 = 8414 X 7 = 9814 X 8 = 11214 X 9 = 12614 X 10 = 140\n",
            "15 X 1 = 15\n",
            "15 X 1 = 1515 X 2 = 30\n",
            "15 X 1 = 1515 X 2 = 3015 X 3 = 45\n",
            "15 X 1 = 1515 X 2 = 3015 X 3 = 4515 X 4 = 60\n",
            "15 X 1 = 1515 X 2 = 3015 X 3 = 4515 X 4 = 6015 X 5 = 75\n",
            "15 X 1 = 1515 X 2 = 3015 X 3 = 4515 X 4 = 6015 X 5 = 7515 X 6 = 90\n",
            "15 X 1 = 1515 X 2 = 3015 X 3 = 4515 X 4 = 6015 X 5 = 7515 X 6 = 9015 X 7 = 105\n",
            "15 X 1 = 1515 X 2 = 3015 X 3 = 4515 X 4 = 6015 X 5 = 7515 X 6 = 9015 X 7 = 10515 X 8 = 120\n",
            "15 X 1 = 1515 X 2 = 3015 X 3 = 4515 X 4 = 6015 X 5 = 7515 X 6 = 9015 X 7 = 10515 X 8 = 12015 X 9 = 135\n",
            "15 X 1 = 1515 X 2 = 3015 X 3 = 4515 X 4 = 6015 X 5 = 7515 X 6 = 9015 X 7 = 10515 X 8 = 12015 X 9 = 13515 X 10 = 150\n",
            "16 X 1 = 16\n",
            "16 X 1 = 1616 X 2 = 32\n",
            "16 X 1 = 1616 X 2 = 3216 X 3 = 48\n",
            "16 X 1 = 1616 X 2 = 3216 X 3 = 4816 X 4 = 64\n",
            "16 X 1 = 1616 X 2 = 3216 X 3 = 4816 X 4 = 6416 X 5 = 80\n",
            "16 X 1 = 1616 X 2 = 3216 X 3 = 4816 X 4 = 6416 X 5 = 8016 X 6 = 96\n",
            "16 X 1 = 1616 X 2 = 3216 X 3 = 4816 X 4 = 6416 X 5 = 8016 X 6 = 9616 X 7 = 112\n",
            "16 X 1 = 1616 X 2 = 3216 X 3 = 4816 X 4 = 6416 X 5 = 8016 X 6 = 9616 X 7 = 11216 X 8 = 128\n",
            "16 X 1 = 1616 X 2 = 3216 X 3 = 4816 X 4 = 6416 X 5 = 8016 X 6 = 9616 X 7 = 11216 X 8 = 12816 X 9 = 144\n",
            "16 X 1 = 1616 X 2 = 3216 X 3 = 4816 X 4 = 6416 X 5 = 8016 X 6 = 9616 X 7 = 11216 X 8 = 12816 X 9 = 14416 X 10 = 160\n",
            "17 X 1 = 17\n",
            "17 X 1 = 1717 X 2 = 34\n",
            "17 X 1 = 1717 X 2 = 3417 X 3 = 51\n",
            "17 X 1 = 1717 X 2 = 3417 X 3 = 5117 X 4 = 68\n",
            "17 X 1 = 1717 X 2 = 3417 X 3 = 5117 X 4 = 6817 X 5 = 85\n",
            "17 X 1 = 1717 X 2 = 3417 X 3 = 5117 X 4 = 6817 X 5 = 8517 X 6 = 102\n",
            "17 X 1 = 1717 X 2 = 3417 X 3 = 5117 X 4 = 6817 X 5 = 8517 X 6 = 10217 X 7 = 119\n",
            "17 X 1 = 1717 X 2 = 3417 X 3 = 5117 X 4 = 6817 X 5 = 8517 X 6 = 10217 X 7 = 11917 X 8 = 136\n",
            "17 X 1 = 1717 X 2 = 3417 X 3 = 5117 X 4 = 6817 X 5 = 8517 X 6 = 10217 X 7 = 11917 X 8 = 13617 X 9 = 153\n",
            "17 X 1 = 1717 X 2 = 3417 X 3 = 5117 X 4 = 6817 X 5 = 8517 X 6 = 10217 X 7 = 11917 X 8 = 13617 X 9 = 15317 X 10 = 170\n",
            "18 X 1 = 18\n",
            "18 X 1 = 1818 X 2 = 36\n",
            "18 X 1 = 1818 X 2 = 3618 X 3 = 54\n",
            "18 X 1 = 1818 X 2 = 3618 X 3 = 5418 X 4 = 72\n",
            "18 X 1 = 1818 X 2 = 3618 X 3 = 5418 X 4 = 7218 X 5 = 90\n",
            "18 X 1 = 1818 X 2 = 3618 X 3 = 5418 X 4 = 7218 X 5 = 9018 X 6 = 108\n",
            "18 X 1 = 1818 X 2 = 3618 X 3 = 5418 X 4 = 7218 X 5 = 9018 X 6 = 10818 X 7 = 126\n",
            "18 X 1 = 1818 X 2 = 3618 X 3 = 5418 X 4 = 7218 X 5 = 9018 X 6 = 10818 X 7 = 12618 X 8 = 144\n",
            "18 X 1 = 1818 X 2 = 3618 X 3 = 5418 X 4 = 7218 X 5 = 9018 X 6 = 10818 X 7 = 12618 X 8 = 14418 X 9 = 162\n",
            "18 X 1 = 1818 X 2 = 3618 X 3 = 5418 X 4 = 7218 X 5 = 9018 X 6 = 10818 X 7 = 12618 X 8 = 14418 X 9 = 16218 X 10 = 180\n",
            "19 X 1 = 19\n",
            "19 X 1 = 1919 X 2 = 38\n",
            "19 X 1 = 1919 X 2 = 3819 X 3 = 57\n",
            "19 X 1 = 1919 X 2 = 3819 X 3 = 5719 X 4 = 76\n",
            "19 X 1 = 1919 X 2 = 3819 X 3 = 5719 X 4 = 7619 X 5 = 95\n",
            "19 X 1 = 1919 X 2 = 3819 X 3 = 5719 X 4 = 7619 X 5 = 9519 X 6 = 114\n",
            "19 X 1 = 1919 X 2 = 3819 X 3 = 5719 X 4 = 7619 X 5 = 9519 X 6 = 11419 X 7 = 133\n",
            "19 X 1 = 1919 X 2 = 3819 X 3 = 5719 X 4 = 7619 X 5 = 9519 X 6 = 11419 X 7 = 13319 X 8 = 152\n",
            "19 X 1 = 1919 X 2 = 3819 X 3 = 5719 X 4 = 7619 X 5 = 9519 X 6 = 11419 X 7 = 13319 X 8 = 15219 X 9 = 171\n",
            "19 X 1 = 1919 X 2 = 3819 X 3 = 5719 X 4 = 7619 X 5 = 9519 X 6 = 11419 X 7 = 13319 X 8 = 15219 X 9 = 17119 X 10 = 190\n",
            "20 X 1 = 20\n",
            "20 X 1 = 2020 X 2 = 40\n",
            "20 X 1 = 2020 X 2 = 4020 X 3 = 60\n",
            "20 X 1 = 2020 X 2 = 4020 X 3 = 6020 X 4 = 80\n",
            "20 X 1 = 2020 X 2 = 4020 X 3 = 6020 X 4 = 8020 X 5 = 100\n",
            "20 X 1 = 2020 X 2 = 4020 X 3 = 6020 X 4 = 8020 X 5 = 10020 X 6 = 120\n",
            "20 X 1 = 2020 X 2 = 4020 X 3 = 6020 X 4 = 8020 X 5 = 10020 X 6 = 12020 X 7 = 140\n",
            "20 X 1 = 2020 X 2 = 4020 X 3 = 6020 X 4 = 8020 X 5 = 10020 X 6 = 12020 X 7 = 14020 X 8 = 160\n",
            "20 X 1 = 2020 X 2 = 4020 X 3 = 6020 X 4 = 8020 X 5 = 10020 X 6 = 12020 X 7 = 14020 X 8 = 16020 X 9 = 180\n",
            "20 X 1 = 2020 X 2 = 4020 X 3 = 6020 X 4 = 8020 X 5 = 10020 X 6 = 12020 X 7 = 14020 X 8 = 16020 X 9 = 18020 X 10 = 200\n"
          ]
        }
      ],
      "source": [
        "#multioplications of tables \n",
        "for i in range(2,21):#heere it goes upto 20 only \n",
        "  table = ''\n",
        "  for j in range(1,11): #this is for multipily\n",
        "    table += f\"{i} X {j} = {i*j}\"\n",
        "    print(table)\n",
        "  #we can directly write the tables into the new output fles \n",
        "    # with open(f\"tables.txt{i}.txt\",\"w\") as f:\n",
        "    #   f.write(table)"
      ]
    },
    {
      "cell_type": "code",
      "execution_count": null,
      "metadata": {
        "id": "-sDAKP393QxO",
        "colab": {
          "base_uri": "https://localhost:8080/",
          "height": 451
        },
        "outputId": "5c3b4810-19cd-486c-e559-d2c3904599d5"
      },
      "outputs": [
        {
          "output_type": "stream",
          "name": "stdout",
          "text": [
            "Enter number blw 0 -5034\n",
            "The number choosen by computer is 25 and user is 34\n",
            "please enter less than 5025\n",
            "ur guess is correct \n"
          ]
        },
        {
          "output_type": "error",
          "ename": "KeyboardInterrupt",
          "evalue": "ignored",
          "traceback": [
            "\u001b[0;31m---------------------------------------------------------------------------\u001b[0m",
            "\u001b[0;31mKeyboardInterrupt\u001b[0m                         Traceback (most recent call last)",
            "\u001b[0;32m<ipython-input-11-e0cc76809eb3>\u001b[0m in \u001b[0;36m<module>\u001b[0;34m\u001b[0m\n\u001b[1;32m     22\u001b[0m \u001b[0;34m\u001b[0m\u001b[0m\n\u001b[1;32m     23\u001b[0m   \u001b[0;31m# elif use\u001b[0m\u001b[0;34m\u001b[0m\u001b[0;34m\u001b[0m\u001b[0;34m\u001b[0m\u001b[0m\n\u001b[0;32m---> 24\u001b[0;31m \u001b[0mguessing_game\u001b[0m\u001b[0;34m(\u001b[0m\u001b[0mnumber_comp\u001b[0m\u001b[0;34m,\u001b[0m\u001b[0muser\u001b[0m\u001b[0;34m)\u001b[0m\u001b[0;34m\u001b[0m\u001b[0;34m\u001b[0m\u001b[0m\n\u001b[0m",
            "\u001b[0;32m<ipython-input-5-716f0170bb79>\u001b[0m in \u001b[0;36mguessing_game\u001b[0;34m(number_comp, user)\u001b[0m\n\u001b[1;32m      5\u001b[0m \u001b[0;34m\u001b[0m\u001b[0m\n\u001b[1;32m      6\u001b[0m   \u001b[0mnumber_comp\u001b[0m \u001b[0;34m=\u001b[0m\u001b[0mrandom\u001b[0m\u001b[0;34m.\u001b[0m\u001b[0mrandint\u001b[0m\u001b[0;34m(\u001b[0m\u001b[0;36m0\u001b[0m\u001b[0;34m,\u001b[0m\u001b[0;36m50\u001b[0m\u001b[0;34m)\u001b[0m\u001b[0;34m\u001b[0m\u001b[0;34m\u001b[0m\u001b[0m\n\u001b[0;32m----> 7\u001b[0;31m   \u001b[0muser\u001b[0m \u001b[0;34m=\u001b[0m \u001b[0minput\u001b[0m\u001b[0;34m(\u001b[0m\u001b[0;34m\"Enter number blw 0 -50\"\u001b[0m\u001b[0;34m)\u001b[0m\u001b[0;34m\u001b[0m\u001b[0;34m\u001b[0m\u001b[0m\n\u001b[0m\u001b[1;32m      8\u001b[0m   \u001b[0ma\u001b[0m \u001b[0;34m=\u001b[0m \u001b[0mint\u001b[0m\u001b[0;34m(\u001b[0m\u001b[0muser\u001b[0m\u001b[0;34m)\u001b[0m\u001b[0;34m\u001b[0m\u001b[0;34m\u001b[0m\u001b[0m\n\u001b[1;32m      9\u001b[0m   \u001b[0mprint\u001b[0m\u001b[0;34m(\u001b[0m\u001b[0;34mf\"The number choosen by computer is {number_comp} and user is {a}\"\u001b[0m\u001b[0;34m)\u001b[0m\u001b[0;34m\u001b[0m\u001b[0;34m\u001b[0m\u001b[0m\n",
            "\u001b[0;32m/usr/local/lib/python3.7/dist-packages/ipykernel/kernelbase.py\u001b[0m in \u001b[0;36mraw_input\u001b[0;34m(self, prompt)\u001b[0m\n\u001b[1;32m    861\u001b[0m             \u001b[0mself\u001b[0m\u001b[0;34m.\u001b[0m\u001b[0m_parent_ident\u001b[0m\u001b[0;34m,\u001b[0m\u001b[0;34m\u001b[0m\u001b[0;34m\u001b[0m\u001b[0m\n\u001b[1;32m    862\u001b[0m             \u001b[0mself\u001b[0m\u001b[0;34m.\u001b[0m\u001b[0m_parent_header\u001b[0m\u001b[0;34m,\u001b[0m\u001b[0;34m\u001b[0m\u001b[0;34m\u001b[0m\u001b[0m\n\u001b[0;32m--> 863\u001b[0;31m             \u001b[0mpassword\u001b[0m\u001b[0;34m=\u001b[0m\u001b[0;32mFalse\u001b[0m\u001b[0;34m,\u001b[0m\u001b[0;34m\u001b[0m\u001b[0;34m\u001b[0m\u001b[0m\n\u001b[0m\u001b[1;32m    864\u001b[0m         )\n\u001b[1;32m    865\u001b[0m \u001b[0;34m\u001b[0m\u001b[0m\n",
            "\u001b[0;32m/usr/local/lib/python3.7/dist-packages/ipykernel/kernelbase.py\u001b[0m in \u001b[0;36m_input_request\u001b[0;34m(self, prompt, ident, parent, password)\u001b[0m\n\u001b[1;32m    902\u001b[0m             \u001b[0;32mexcept\u001b[0m \u001b[0mKeyboardInterrupt\u001b[0m\u001b[0;34m:\u001b[0m\u001b[0;34m\u001b[0m\u001b[0;34m\u001b[0m\u001b[0m\n\u001b[1;32m    903\u001b[0m                 \u001b[0;31m# re-raise KeyboardInterrupt, to truncate traceback\u001b[0m\u001b[0;34m\u001b[0m\u001b[0;34m\u001b[0m\u001b[0;34m\u001b[0m\u001b[0m\n\u001b[0;32m--> 904\u001b[0;31m                 \u001b[0;32mraise\u001b[0m \u001b[0mKeyboardInterrupt\u001b[0m\u001b[0;34m(\u001b[0m\u001b[0;34m\"Interrupted by user\"\u001b[0m\u001b[0;34m)\u001b[0m \u001b[0;32mfrom\u001b[0m \u001b[0;32mNone\u001b[0m\u001b[0;34m\u001b[0m\u001b[0;34m\u001b[0m\u001b[0m\n\u001b[0m\u001b[1;32m    905\u001b[0m             \u001b[0;32mexcept\u001b[0m \u001b[0mException\u001b[0m \u001b[0;32mas\u001b[0m \u001b[0me\u001b[0m\u001b[0;34m:\u001b[0m\u001b[0;34m\u001b[0m\u001b[0;34m\u001b[0m\u001b[0m\n\u001b[1;32m    906\u001b[0m                 \u001b[0mself\u001b[0m\u001b[0;34m.\u001b[0m\u001b[0mlog\u001b[0m\u001b[0;34m.\u001b[0m\u001b[0mwarning\u001b[0m\u001b[0;34m(\u001b[0m\u001b[0;34m\"Invalid Message:\"\u001b[0m\u001b[0;34m,\u001b[0m \u001b[0mexc_info\u001b[0m\u001b[0;34m=\u001b[0m\u001b[0;32mTrue\u001b[0m\u001b[0;34m)\u001b[0m\u001b[0;34m\u001b[0m\u001b[0;34m\u001b[0m\u001b[0m\n",
            "\u001b[0;31mKeyboardInterrupt\u001b[0m: Interrupted by user"
          ]
        }
      ],
      "source": [
        "import random\n",
        "# def guessing_game(number_comp,user):\n",
        "#SIMPLE number guessing game \n",
        "number_comp =random.randint(0,50)\n",
        "user = input(\"Enter number blw 0 -50\")\n",
        "a = int(user)\n",
        "attempt =1\n",
        "print(f\"The number choosen by computer is {number_comp} and user is {a}\")\n",
        "while True:\n",
        "  if a > number_comp:\n",
        "    a = int(input(\"please enter less than 50\"))\n",
        "    attempt+=1\n",
        "  elif a < number_comp:\n",
        "    a = int(input(\"please enter more than 50\"))\n",
        "    attempt += 1 \n",
        "\n",
        "  else :\n",
        "      print(\"ur guess is correct \")\n",
        "      break\n",
        "\n",
        "  # elif use\n",
        "guessing_game(number_comp,user)"
      ]
    },
    {
      "cell_type": "code",
      "source": [
        "class Student():\n",
        "  name = \"Harry\"\n",
        "  marks = 98\n",
        "  print(f\"The name of the student is {name} and marks are {marks}\")\n",
        "\n",
        "  def object(self):  #defingin a fucniton here i can use the properties of class \n",
        "    print(f\"name is {self.name}\")\n",
        "harry = Student()   #basic object created \n",
        "\n",
        "print(harry)\n",
        "harry.object() #while calling take care that "
      ],
      "metadata": {
        "colab": {
          "base_uri": "https://localhost:8080/"
        },
        "id": "12LuZENn8eUD",
        "outputId": "589fed25-e3e4-4850-b096-b9b81847ac45"
      },
      "execution_count": null,
      "outputs": [
        {
          "output_type": "stream",
          "name": "stdout",
          "text": [
            "The name of the student is Harry and marks are 98\n",
            "<__main__.Student object at 0x7f86c1fffa90>\n",
            "name is <__main__.Student object at 0x7f86c1fffa90>\n"
          ]
        }
      ]
    },
    {
      "cell_type": "code",
      "source": [
        "# class Student():\n",
        "  # I dont want to give directly here and i wnat to give separately at once itself so that i can assign easily\n",
        "#   name = \"Harry\"\n",
        "#   marks = 98\n",
        "#   print(f\"The name of the student is {name} and marks are {marks}\")\n",
        "\n",
        "#   def object(self):  #defingin a fucniton here i can use the properties of class \n",
        "#     print(f\"name is {self.name}\")\n",
        "# harry = Student()   #basic object created \n",
        "\n",
        "# print(harry)\n",
        "# harry.object() #while calling take care that \n",
        "class Student:\n",
        "  def __init__(self,name,marks):\n",
        "    self.name = name\n",
        "    self.marks = marks\n",
        "\n",
        "  def printobj(self):\n",
        "    print(f\"The name is {self.name}\")\n",
        "    print(f\" marks are {self.marks}\")\n",
        "\n",
        "\n",
        "    harry = Student(\"Harry\",34)\n",
        "    harry.printobj()\n",
        "\n"
      ],
      "metadata": {
        "id": "D_19-LeoCRtH"
      },
      "execution_count": null,
      "outputs": []
    },
    {
      "cell_type": "code",
      "source": [
        "#simple calculatior using the class and objects \n",
        "import math\n",
        "class calculator:\n",
        "  def __init__(self,number):\n",
        "     self.number = number\n",
        "  def sqroot(self):\n",
        "    return self.number *self.number\n",
        "  def cube(self):\n",
        "    return  self.number * self.number *self.number\n",
        "  def root(self):\n",
        "    return math.sqrt(self.number)\n",
        "\n",
        "a = calculator(4)\n",
        "print(a.sqroot())\n",
        "print(a.cube())\n",
        "print(a.root())\n",
        "\n"
      ],
      "metadata": {
        "colab": {
          "base_uri": "https://localhost:8080/"
        },
        "id": "fhQtIQM5SVY5",
        "outputId": "2d1688fe-5be0-4453-fdb4-2455e130ff9f"
      },
      "execution_count": null,
      "outputs": [
        {
          "output_type": "stream",
          "name": "stdout",
          "text": [
            "16\n",
            "64\n",
            "2.0\n"
          ]
        }
      ]
    },
    {
      "cell_type": "code",
      "source": [
        "import random \n",
        "randNum =random.randint(1,100)\n",
        "print(f\"number generated by comp is {randNum}\")\n",
        "userGuess = None \n",
        "guess =0 \n",
        "\n",
        "\n",
        "  \n",
        "while (randNum !=userGuess):\n",
        "  userGuess =int(input(\"give input blw 1-100\"))\n",
        "  guess += 1\n",
        "  if randNum == userGuess:\n",
        "    print(\"ur are correct\")\n",
        "  else :\n",
        "    # userGuess = int(input(\"try again\"))\n",
        "    if userGuess > randNum :\n",
        "      print(\"Guess worng>..smaller chahiye \")\n",
        "    else :\n",
        "      print(\"Guess wrong..bada chahiye\")\n",
        "   \n",
        "print(f\"The total number of guess are {guess}\")\n",
        "\n",
        "rand()"
      ],
      "metadata": {
        "id": "GP44ERMBWDM7",
        "colab": {
          "base_uri": "https://localhost:8080/",
          "height": 469
        },
        "outputId": "acbf690c-3edc-4ae2-8f0b-910454605b9d"
      },
      "execution_count": null,
      "outputs": [
        {
          "metadata": {
            "tags": null
          },
          "name": "stdout",
          "output_type": "stream",
          "text": [
            "number generated by comp is 59\n",
            "Guess wrong..bada chahiye\n",
            "Guess wrong..bada chahiye\n",
            "ur are correct\n",
            "The total number of guess are 3\n"
          ]
        },
        {
          "output_type": "error",
          "ename": "KeyboardInterrupt",
          "evalue": "ignored",
          "traceback": [
            "\u001b[0;31m---------------------------------------------------------------------------\u001b[0m",
            "\u001b[0;31mKeyboardInterrupt\u001b[0m                         Traceback (most recent call last)",
            "\u001b[0;32m<ipython-input-13-748907b2a4bc>\u001b[0m in \u001b[0;36m<module>\u001b[0;34m\u001b[0m\n\u001b[1;32m     21\u001b[0m \u001b[0mprint\u001b[0m\u001b[0;34m(\u001b[0m\u001b[0;34mf\"The total number of guess are {guess}\"\u001b[0m\u001b[0;34m)\u001b[0m\u001b[0;34m\u001b[0m\u001b[0;34m\u001b[0m\u001b[0m\n\u001b[1;32m     22\u001b[0m \u001b[0;34m\u001b[0m\u001b[0m\n\u001b[0;32m---> 23\u001b[0;31m \u001b[0mrand\u001b[0m\u001b[0;34m(\u001b[0m\u001b[0;34m)\u001b[0m\u001b[0;34m\u001b[0m\u001b[0;34m\u001b[0m\u001b[0m\n\u001b[0m",
            "\u001b[0;32m<ipython-input-12-f0547e2c76aa>\u001b[0m in \u001b[0;36mrand\u001b[0;34m()\u001b[0m\n\u001b[1;32m      6\u001b[0m \u001b[0;34m\u001b[0m\u001b[0m\n\u001b[1;32m      7\u001b[0m \u001b[0;32mdef\u001b[0m \u001b[0mrand\u001b[0m\u001b[0;34m(\u001b[0m\u001b[0;34m)\u001b[0m\u001b[0;34m:\u001b[0m\u001b[0;34m\u001b[0m\u001b[0;34m\u001b[0m\u001b[0m\n\u001b[0;32m----> 8\u001b[0;31m   \u001b[0muserGuess\u001b[0m \u001b[0;34m=\u001b[0m\u001b[0mint\u001b[0m\u001b[0;34m(\u001b[0m\u001b[0minput\u001b[0m\u001b[0;34m(\u001b[0m\u001b[0;34m\"give input blw 1-100\"\u001b[0m\u001b[0;34m)\u001b[0m\u001b[0;34m)\u001b[0m\u001b[0;34m\u001b[0m\u001b[0;34m\u001b[0m\u001b[0m\n\u001b[0m\u001b[1;32m      9\u001b[0m   \u001b[0;32mwhile\u001b[0m \u001b[0;34m(\u001b[0m\u001b[0mrandNum\u001b[0m \u001b[0;34m!=\u001b[0m\u001b[0muserGuess\u001b[0m\u001b[0;34m)\u001b[0m\u001b[0;34m:\u001b[0m\u001b[0;34m\u001b[0m\u001b[0;34m\u001b[0m\u001b[0m\n\u001b[1;32m     10\u001b[0m     \u001b[0mguess\u001b[0m \u001b[0;34m+=\u001b[0m \u001b[0;36m1\u001b[0m\u001b[0;34m\u001b[0m\u001b[0;34m\u001b[0m\u001b[0m\n",
            "\u001b[0;32m/usr/local/lib/python3.7/dist-packages/ipykernel/kernelbase.py\u001b[0m in \u001b[0;36mraw_input\u001b[0;34m(self, prompt)\u001b[0m\n\u001b[1;32m    861\u001b[0m             \u001b[0mself\u001b[0m\u001b[0;34m.\u001b[0m\u001b[0m_parent_ident\u001b[0m\u001b[0;34m,\u001b[0m\u001b[0;34m\u001b[0m\u001b[0;34m\u001b[0m\u001b[0m\n\u001b[1;32m    862\u001b[0m             \u001b[0mself\u001b[0m\u001b[0;34m.\u001b[0m\u001b[0m_parent_header\u001b[0m\u001b[0;34m,\u001b[0m\u001b[0;34m\u001b[0m\u001b[0;34m\u001b[0m\u001b[0m\n\u001b[0;32m--> 863\u001b[0;31m             \u001b[0mpassword\u001b[0m\u001b[0;34m=\u001b[0m\u001b[0;32mFalse\u001b[0m\u001b[0;34m,\u001b[0m\u001b[0;34m\u001b[0m\u001b[0;34m\u001b[0m\u001b[0m\n\u001b[0m\u001b[1;32m    864\u001b[0m         )\n\u001b[1;32m    865\u001b[0m \u001b[0;34m\u001b[0m\u001b[0m\n",
            "\u001b[0;32m/usr/local/lib/python3.7/dist-packages/ipykernel/kernelbase.py\u001b[0m in \u001b[0;36m_input_request\u001b[0;34m(self, prompt, ident, parent, password)\u001b[0m\n\u001b[1;32m    902\u001b[0m             \u001b[0;32mexcept\u001b[0m \u001b[0mKeyboardInterrupt\u001b[0m\u001b[0;34m:\u001b[0m\u001b[0;34m\u001b[0m\u001b[0;34m\u001b[0m\u001b[0m\n\u001b[1;32m    903\u001b[0m                 \u001b[0;31m# re-raise KeyboardInterrupt, to truncate traceback\u001b[0m\u001b[0;34m\u001b[0m\u001b[0;34m\u001b[0m\u001b[0;34m\u001b[0m\u001b[0m\n\u001b[0;32m--> 904\u001b[0;31m                 \u001b[0;32mraise\u001b[0m \u001b[0mKeyboardInterrupt\u001b[0m\u001b[0;34m(\u001b[0m\u001b[0;34m\"Interrupted by user\"\u001b[0m\u001b[0;34m)\u001b[0m \u001b[0;32mfrom\u001b[0m \u001b[0;32mNone\u001b[0m\u001b[0;34m\u001b[0m\u001b[0;34m\u001b[0m\u001b[0m\n\u001b[0m\u001b[1;32m    905\u001b[0m             \u001b[0;32mexcept\u001b[0m \u001b[0mException\u001b[0m \u001b[0;32mas\u001b[0m \u001b[0me\u001b[0m\u001b[0;34m:\u001b[0m\u001b[0;34m\u001b[0m\u001b[0;34m\u001b[0m\u001b[0m\n\u001b[1;32m    906\u001b[0m                 \u001b[0mself\u001b[0m\u001b[0;34m.\u001b[0m\u001b[0mlog\u001b[0m\u001b[0;34m.\u001b[0m\u001b[0mwarning\u001b[0m\u001b[0;34m(\u001b[0m\u001b[0;34m\"Invalid Message:\"\u001b[0m\u001b[0;34m,\u001b[0m \u001b[0mexc_info\u001b[0m\u001b[0;34m=\u001b[0m\u001b[0;32mTrue\u001b[0m\u001b[0;34m)\u001b[0m\u001b[0;34m\u001b[0m\u001b[0;34m\u001b[0m\u001b[0m\n",
            "\u001b[0;31mKeyboardInterrupt\u001b[0m: Interrupted by user"
          ]
        }
      ]
    },
    {
      "cell_type": "code",
      "source": [
        "class Employee:\n",
        "             #__init__  is the constructor \n",
        "  def __init__(self,name,center,company):#here we use init bcz we can directly instantiate at the end in this ex:harry = Employee(\"Harry\",\"Delhi\",\"Youtube\")\n",
        "    self.name = name                     #rather than above \n",
        "    self.center = center \n",
        "    self.company = company\n",
        "  def printObj(self):\n",
        "    print(f\"The name of guy is {self.name}\")\n",
        "    print(f\"The center of guy is {self.center}\")\n",
        "    print(f\"The company of guy is {self.company}\")\n",
        "  @staticmethod \n",
        "  def greet():\n",
        "    print(\"Hai all....Goood morning \")\n",
        "harry = Employee(\"Harry\",\"Delhi\",\"Youtube\")\n",
        "harry.printObj()\n",
        "harry.greet()\n"
      ],
      "metadata": {
        "id": "SOweEKFdxbdw",
        "colab": {
          "base_uri": "https://localhost:8080/"
        },
        "outputId": "600c9174-45f7-4899-9a84-a18011a72974"
      },
      "execution_count": null,
      "outputs": [
        {
          "output_type": "stream",
          "name": "stdout",
          "text": [
            "The name of guy is Harry\n",
            "The center of guy is Delhi\n",
            "The company of guy is Youtube\n",
            "Hai all....Goood morning \n"
          ]
        }
      ]
    },
    {
      "cell_type": "code",
      "source": [
        "#inheritance \n",
        "class Grandfather:\n",
        "  country = \"India\"\n",
        "  def wealth(self):\n",
        "    print(\"I have land and i have some mamals\")\n",
        "    print(\"THis is in Grandfather\")\n",
        "class Father(Grandfather):\n",
        "  income =10\n",
        "  def wealth(self):\n",
        "    print(\"I have land beta\")\n",
        "    print(\"THis is in father\") \n",
        "class Son(Father):\n",
        "  salary = 1000\n",
        "  def weatlth(self):\n",
        "    print(\"I have nothing \")\n",
        "    print(\"THis is in son\")\n",
        "# def printobj(self):\n",
        "#   print(f\"The name of the guy is {self.name}\")  \n",
        "#   print(f\"The land of the guy is {self.land}\")\n",
        "\n",
        "harry = Son()\n",
        "harry.wealth()\n",
        "print(harry.wealth)\n",
        "print(harry.salary)\n",
        "\n",
        "raj = Father()\n",
        "raj.wealth()\n",
        "\n",
        "dhenya = Grandfather()\n",
        "dhenya.wealth()\n",
        "\n"
      ],
      "metadata": {
        "colab": {
          "base_uri": "https://localhost:8080/"
        },
        "id": "Lh_Iv69XfM5G",
        "outputId": "c6b79212-cd4c-4afc-9917-f12e91076a53"
      },
      "execution_count": null,
      "outputs": [
        {
          "output_type": "stream",
          "name": "stdout",
          "text": [
            "I have land beta\n",
            "THis is in father\n",
            "<bound method Father.wealth of <__main__.Son object at 0x7f14479f51d0>>\n",
            "1000\n",
            "I have land beta\n",
            "THis is in father\n",
            "I have land and i have some mamals\n",
            "THis is in Grandfather\n"
          ]
        }
      ]
    },
    {
      "cell_type": "code",
      "source": [
        "def readFile(filename):\n",
        "  try:\n",
        "    with open(filename,\"r\") as f :\n",
        "      print (f.read())\n",
        "  except FileNotFoundError:\n",
        "    print(f\"file {filename} not found \")\n",
        "\n",
        "readFile(\"one.txt\")"
      ],
      "metadata": {
        "colab": {
          "base_uri": "https://localhost:8080/"
        },
        "id": "uqol74hykYDl",
        "outputId": "dd991f4d-37f1-418a-e2e6-3893ba786db8"
      },
      "execution_count": null,
      "outputs": [
        {
          "output_type": "stream",
          "name": "stdout",
          "text": [
            "file one.txt not found \n"
          ]
        }
      ]
    },
    {
      "cell_type": "code",
      "source": [
        "list1 = [1,2,3,4,5] # this is using enumerate and we can use with the key list comprehension  also\n",
        "#chek below code for htat \n",
        "list2 = [item for item in list1 if item==2 or item==4]\n",
        "print(list2)"
      ],
      "metadata": {
        "colab": {
          "base_uri": "https://localhost:8080/"
        },
        "id": "ynnGFfTG34cl",
        "outputId": "0a6a322e-ddae-4a1a-edb4-fcfce12be90d"
      },
      "execution_count": null,
      "outputs": [
        {
          "output_type": "stream",
          "name": "stdout",
          "text": [
            "[2, 4]\n"
          ]
        }
      ]
    },
    {
      "cell_type": "code",
      "source": [
        "list1 = [1,2,3,4,5] #using of enumerate \n",
        "for index,item in enumerate(list1):\n",
        "  if index == 2 or index == 4:\n",
        "    print(f\"The {index+1} is item{item}\")"
      ],
      "metadata": {
        "colab": {
          "base_uri": "https://localhost:8080/"
        },
        "id": "ezXdz-o-42TQ",
        "outputId": "9857eeb5-b8c4-4382-fcea-bffe6dae5c21"
      },
      "execution_count": null,
      "outputs": [
        {
          "output_type": "stream",
          "name": "stdout",
          "text": [
            "The 3 is item3\n",
            "The 5 is item5\n"
          ]
        }
      ]
    },
    {
      "cell_type": "code",
      "source": [
        "name = \"harry\"       #format function usage \n",
        "channel = \"codeiwth harry\"\n",
        "type = \"coding \"\n",
        "\n",
        "print(f\"This is {name} and his {type} chanel is {channel}\") #using f string \n",
        "print(\"This is {} and his {} chanel is {}\".format(name,channel,type)) #using format method for printing \n",
        "print(\"This is {1} and his {0} chanel is {2}\".format(name,channel,type)) # for format we can use or give the index of arguments "
      ],
      "metadata": {
        "colab": {
          "base_uri": "https://localhost:8080/"
        },
        "id": "Xm1cH4u65d5g",
        "outputId": "890ead04-57f3-494a-ff48-0c9aa88ea2b3"
      },
      "execution_count": null,
      "outputs": [
        {
          "output_type": "stream",
          "name": "stdout",
          "text": [
            "This is harry and his coding  chanel is codeiwth harry\n",
            "This is harry and his codeiwth harry chanel is coding \n",
            "This is codeiwth harry and his harry chanel is coding \n"
          ]
        }
      ]
    },
    {
      "cell_type": "code",
      "source": [
        "#mapping \n",
        "def square (n):\n",
        "  return n*n\n",
        "list1 = [2,4,6]\n",
        "#i want to square the aboe the lsit with square function so \n",
        "list2 = []\n",
        "for item in list1 :\n",
        "  list2.append(square(item))\n",
        "print(list2)\n",
        "\n",
        "##############can be done easily with map fucntion(method 2 )\n",
        "print(map(square,list1))\n",
        "\n",
        "print((map(square, list1))) #convert it into list (map(square,list1))"
      ],
      "metadata": {
        "colab": {
          "base_uri": "https://localhost:8080/"
        },
        "id": "dOqsMCj2FXM9",
        "outputId": "421007b1-a1e5-43b4-da1d-bf5b273eed61"
      },
      "execution_count": null,
      "outputs": [
        {
          "output_type": "stream",
          "name": "stdout",
          "text": [
            "[4, 16, 36]\n",
            "<map object at 0x7fee05202d50>\n",
            "<map object at 0x7fee05202d10>\n"
          ]
        }
      ]
    },
    {
      "cell_type": "code",
      "source": [
        "#filter funtion \n",
        "def numbergreater(num):\n",
        "  if num > 5 :\n",
        "    return True\n",
        "  else:\n",
        "    return False \n",
        "l =[2,4,5,7,8,9]\n",
        "# can apply lambda here that is \n",
        "hel = lambda num :num >5\n",
        "print(list(filter(numbergreater, l)))\n",
        "\n",
        "#ouptut [7,8,9]"
      ],
      "metadata": {
        "colab": {
          "base_uri": "https://localhost:8080/"
        },
        "id": "jzyttTP1H48d",
        "outputId": "091ddea9-ee38-4bbb-e140-0d5bda7eaaa4"
      },
      "execution_count": null,
      "outputs": [
        {
          "output_type": "stream",
          "name": "stdout",
          "text": [
            "[7, 8, 9]\n"
          ]
        }
      ]
    },
    {
      "cell_type": "code",
      "source": [
        "#reduce function \n",
        "from functools import reduce \n",
        "sum = lambda a,b :a+b\n",
        "l = [1,2,3,4,4]\n",
        "print(reduce(sum,l))\n"
      ],
      "metadata": {
        "colab": {
          "base_uri": "https://localhost:8080/"
        },
        "id": "dZagLmNHHUoe",
        "outputId": "d4c968bf-1a93-4e3f-d881-7be568e3c0c6"
      },
      "execution_count": null,
      "outputs": [
        {
          "output_type": "stream",
          "name": "stdout",
          "text": [
            "14\n"
          ]
        }
      ]
    },
    {
      "cell_type": "code",
      "source": [
        "def f(val,value):\n",
        "  v = 1\n",
        "  value[0] = 44\n",
        "t =3 \n",
        "v =[1,2,3]\n",
        "f(t,v)\n",
        "\n",
        "print(t,v[0])\n",
        "geeks = [1,2,3,4]\n",
        "geeks.append([5,6])\n",
        "print(geeks)\n",
        "\n",
        "\n",
        "geeks = [1,2,3,4]\n",
        "print(\"This is the secndn one \")\n",
        "print(geeks[2:])\n"
      ],
      "metadata": {
        "id": "4ijIsNZVoddt",
        "colab": {
          "base_uri": "https://localhost:8080/"
        },
        "outputId": "653b2ad3-ea33-4b5e-bde1-fe78ad7a903b"
      },
      "execution_count": null,
      "outputs": [
        {
          "output_type": "stream",
          "name": "stdout",
          "text": [
            "3 44\n",
            "[1, 2, 3, 4, [5, 6]]\n",
            "This is the secndn one \n",
            "[3, 4]\n"
          ]
        }
      ]
    },
    {
      "cell_type": "code",
      "source": [
        "temp = [\"geek\",\"for\",\"geej\"]\n",
        "arr=[i[0].upper() for i in temp]\n",
        "print(arr)"
      ],
      "metadata": {
        "colab": {
          "base_uri": "https://localhost:8080/"
        },
        "id": "neyxQyq94mBN",
        "outputId": "0b1a5139-6975-47f4-fc79-33eacb42ec95"
      },
      "execution_count": null,
      "outputs": [
        {
          "output_type": "stream",
          "name": "stdout",
          "text": [
            "['G', 'F', 'G']\n"
          ]
        }
      ]
    },
    {
      "cell_type": "code",
      "source": [
        "# def average(array):\n",
        "#     # your code goes here\n",
        "#     l = []\n",
        "#     count = 0\n",
        "#     for i in range(len(array)):\n",
        "#         for j in range(len(array)):\n",
        "#             if array[i] != array[j]:\n",
        "#                 l.append(arr[i])\n",
        "#                 count +=1\n",
        "#             else :\n",
        "#                 # l.append(arr[j])\n",
        "#                 count+=1\n",
        "#     print(l)\n",
        "#     return l\n",
        "#     sum =0\n",
        "#     for i in range(len(l)):\n",
        "#         sum += l[i]\n",
        "#     print(sum)\n",
        "#     return sum\n",
        "#     avg = (sum /len(l))\n",
        "#     print(avg)\n",
        "    \n",
        "# if __name__ == '__main__':\n",
        "#     n = int(input())\n",
        "#     arr = list(map(int, input().split()))\n",
        "#     result = average(arr)\n",
        "#     print(result)\n",
        "def average(array):\n",
        "    \n",
        "    array = set(array)\n",
        "    # print(s)\n",
        "    return round(sum(array)/len(array),3)\n",
        "if __name__ == '__main__':\n",
        "    n = int(input())\n",
        "    arr = list(map(int, input().split()))\n",
        "    result = average(arr)\n",
        "    print(result)"
      ],
      "metadata": {
        "colab": {
          "base_uri": "https://localhost:8080/"
        },
        "id": "XsEfPS9D-q3w",
        "outputId": "1d01c343-7ad8-4b44-990f-40caac6cf35a"
      },
      "execution_count": null,
      "outputs": [
        {
          "output_type": "stream",
          "name": "stdout",
          "text": [
            "3\n",
            "12 12 3\n",
            "[12, 12, 3, 3]\n",
            "[12, 12, 3, 3]\n"
          ]
        }
      ]
    },
    {
      "cell_type": "code",
      "source": [
        "#smallest divisior of the two strings are \n",
        "def check(s,t):\n",
        "  if len(s) < len(t):\n",
        "    check(t,s)\n",
        "  if s == t:\n",
        "    return True\n",
        "  if s.startswith(t):\n",
        "    s = s[len(t):]\n",
        "    print(s)\n",
        "    return check(s,t)\n",
        "  return False\n",
        "\n",
        "def div ():\n",
        "  s1 = \"bcdbcdbcdbcd\"\n",
        "  t1 = \"bcdbcd\"\n",
        "  s = s1\n",
        "  t = t1\n",
        "  flag = 0\n",
        "  if len(s) < len(t):\n",
        "    print(\"-1\")\n",
        "  while len(t) <= len(s):\n",
        "    if t == s:\n",
        "      flag = 1\n",
        "      break\n",
        "    t += t1\n",
        "  if not flag :\n",
        "    print(\"-1\")\n",
        "  else:\n",
        "    for z in range(len(t1)):\n",
        "      if check(s1,t1[:z+1]) and check(t1,t1[:z+1]):\n",
        "        print(t1)\n",
        "        print(t1[:z+1],z+1)\n",
        "        break\n",
        "div()"
      ],
      "metadata": {
        "id": "gWPYv3mRz_dJ",
        "colab": {
          "base_uri": "https://localhost:8080/"
        },
        "outputId": "11b836f6-f722-4d26-f304-ff9f17b503ca"
      },
      "execution_count": null,
      "outputs": [
        {
          "output_type": "stream",
          "name": "stdout",
          "text": [
            "cdbcdbcdbcd\n",
            "dbcdbcdbcd\n",
            "bcdbcdbcd\n",
            "bcdbcd\n",
            "bcd\n",
            "bcd\n",
            "bcdbcd\n",
            "bcd 3\n"
          ]
        }
      ]
    },
    {
      "cell_type": "code",
      "source": [
        "s = \"abcabcabc\"\n",
        "n = 20\n",
        "def repeatedString(s, n):\n",
        "    # Write your code here\n",
        "    if n <= len(s):\n",
        "        return s[:n].count('a')\n",
        "    if n > len(s):\n",
        "        count = s.count('a')*int(n/len(s)) + s[:n%len(s)].count('a')\n",
        "        print(count)\n",
        "    return count\n",
        "    "
      ],
      "metadata": {
        "id": "RccpXI7tW4mS"
      },
      "execution_count": null,
      "outputs": []
    },
    {
      "cell_type": "code",
      "source": [
        "nums = [19,19,15,5,3,5,5,2] #thisis used to check if the count of 19 =2 and 5 is atleaset >3\n",
        "def test(nums):\n",
        "  if  nums.count(19) ==2  and nums.count(5) >=3 :\n",
        "    print(\"yes present \")\n",
        "  else :\n",
        "    print(\"no\")\n",
        "test(nums)"
      ],
      "metadata": {
        "colab": {
          "base_uri": "https://localhost:8080/"
        },
        "id": "MTF5BUDudMq4",
        "outputId": "d2706a1f-d601-4209-f0e0-445b07bc9953"
      },
      "execution_count": null,
      "outputs": [
        {
          "output_type": "stream",
          "name": "stdout",
          "text": [
            "no\n"
          ]
        }
      ]
    },
    {
      "cell_type": "code",
      "source": [
        "nums = [19, 19, 15, 5, 5, 5, 1, 2]\n",
        "# for i in range(len(nums)):\n",
        " \n",
        "def prog(nums):\n",
        "  for i in range(len(nums)):\n",
        "   return  len(nums) == 8 and nums.count(nums[4]) == 3\n",
        "prog(nums)\n",
        "#      return True\n",
        "# def check(nums):\n",
        "#   for in range(len(nums)):\n",
        "#     if nums[3] "
      ],
      "metadata": {
        "colab": {
          "base_uri": "https://localhost:8080/"
        },
        "id": "aVJ4150Qdy_8",
        "outputId": "51556207-df07-4152-9716-1b2241fcbecb"
      },
      "execution_count": null,
      "outputs": [
        {
          "output_type": "execute_result",
          "data": {
            "text/plain": [
              "False"
            ]
          },
          "metadata": {},
          "execution_count": 35
        }
      ]
    },
    {
      "cell_type": "code",
      "source": [
        "n =int(input())\n",
        "\n",
        "def stone(n):\n",
        "  #used to print the n stone piles if n is even or odd it prints the pile of list \n",
        "  return [n+2 *i for i in range(n)]\n",
        "  print(stone(n))\n",
        "  # else:\n",
        "  #   for i in range(n):\n",
        "  #     return n+2 *i\n",
        "stone(n)"
      ],
      "metadata": {
        "id": "UK4cxzsFeml2",
        "colab": {
          "base_uri": "https://localhost:8080/"
        },
        "outputId": "117ff730-c370-47a1-cebc-536680f2b4ef"
      },
      "execution_count": null,
      "outputs": [
        {
          "name": "stdout",
          "output_type": "stream",
          "text": [
            "4\n"
          ]
        },
        {
          "output_type": "execute_result",
          "data": {
            "text/plain": [
              "[4, 6, 8, 10]"
            ]
          },
          "metadata": {},
          "execution_count": 53
        }
      ]
    },
    {
      "cell_type": "code",
      "source": [
        "n = [0, 10, 20, 30, 40, 50, 60, 70, 80, 90, 100, 110, 120, 130, 140, 150, 160, 170, 180, 190, 200, 210, 220, 230, 240, 250, 260, 270, 280, 290, 300, 310, 320, 330, 340, 350, 360, 370, 380, 390, 400, 410, 420, 430, 440, 450, 460, 470, 480, 490, 500, 510, 520, 530, 540, 550, 560, 570, 580, 590, 600, 610, 620, 630, 640, 650, 660, 670, 680, 690, 700, 710, 720, 730, 740, 750, 760, 770, 780, 790, 800, 810, 820, 830, 840, 850, 860, 870, 880, 890, 900, 910, 920, 930, 940, 950, 960, 970, 980, 990]\n",
        "\n",
        "# def diff(n):\n",
        "#   for i in range(len(n)):\n",
        "#     for j in range(len(n)):\n",
        "#       print(n)\n",
        "#       b = n[i]-n[i+1]\n",
        "#       if  b== 10:\n",
        "#         # print(b)\n",
        "#         return True\n",
        "#       else:\n",
        "#         return False\n",
        "# diff(n)#this can be done in another way that is \n",
        "def diff(n):#used to check \n",
        "  return all(i in range(1000) and abs(i -j) >= 10 for i in n for j in n if i!=j) and len(set(n)) == 100\n",
        "diff(n)"
      ],
      "metadata": {
        "colab": {
          "base_uri": "https://localhost:8080/"
        },
        "id": "_AshxZdTUMiE",
        "outputId": "7e9a4da8-1ee5-464e-ed6f-da6b9e8113b2"
      },
      "execution_count": null,
      "outputs": [
        {
          "output_type": "execute_result",
          "data": {
            "text/plain": [
              "False"
            ]
          },
          "metadata": {},
          "execution_count": 63
        }
      ]
    },
    {
      "cell_type": "code",
      "source": [
        "u = ['hai','hello','namaste']\n",
        "for i,v in enumerate(u):\n",
        "  print(i,v)\n",
        "\n",
        "for i in reversed(range(1,12,2)):\n",
        "  print(i,end =\"      \")\n",
        "\n",
        "basket = ['apple','orange','jamkai']\n",
        "for  j in sorted(set(basket)):#sorted keyyyyyyyyyyyyyyyyyyy \n",
        "  print(j)"
      ],
      "metadata": {
        "colab": {
          "base_uri": "https://localhost:8080/"
        },
        "id": "naVcQIhvamM2",
        "outputId": "00305f13-4864-4880-b364-843e03878bb0"
      },
      "execution_count": null,
      "outputs": [
        {
          "output_type": "stream",
          "name": "stdout",
          "text": [
            "0 hai\n",
            "1 hello\n",
            "2 namaste\n",
            "11      9      7      5      3      1      apple\n",
            "jamkai\n",
            "orange\n"
          ]
        }
      ]
    },
    {
      "cell_type": "code",
      "source": [
        "mytuple = (1.23,3,4,'edureakaa')\n",
        "for x in mytuple:\n",
        "  print(x)\n",
        "                      #print(mytuple[0]) accessing element\n",
        "\n",
        "mytuple = mytuple+ (4,5,6)\n",
        "print(mytuple[:])   ##  : is used to just print the "
      ],
      "metadata": {
        "colab": {
          "base_uri": "https://localhost:8080/"
        },
        "id": "a8Aw-q3hu37s",
        "outputId": "bd56bb6b-e48b-470d-88b5-1b04349eacbe"
      },
      "execution_count": null,
      "outputs": [
        {
          "output_type": "stream",
          "name": "stdout",
          "text": [
            "1.23\n",
            "3\n",
            "4\n",
            "edureakaa\n",
            "1.23\n",
            "(1.23, 3, 4, 'edureakaa', 4, 5, 6)\n"
          ]
        }
      ]
    },
    {
      "cell_type": "code",
      "source": [
        "#string manipulations in puython are done \n",
        "s = \"hai \"\n",
        "t = \"Namaste babai\"\n",
        "x = s+t\n",
        "p =len(x)\n",
        "print(p)\n",
        "print(x)\n",
        "                              #fuuncitons of string are\n",
        "                              #  chr() is converts integer to character \n",
        "                              #  ord() converts a character to an integer \n",
        "                              #  str() returns a string of an object\n",
        "ord('a')\n",
        "chr(87)\n",
        "#string indexing \n",
        "s ='example'\n",
        "s[0]\n",
        "s[len(s)-1]\n",
        "print(s[-1]) \n",
        "#slicing of the string \n",
        "s[2:5]\n",
        "s[:4]              #s[0:4] both are same which sshows the result sub string n-m character in s[m:n]\n",
        "print(f\"yes here : is used  {s[:]} \")\n",
        "print(f\"usign :: is {s[::-3]}\")  #slice expression that gives every third character of string s, starting with the last character  \n",
        "s[0:6:2] #s[start:stop:step]\n",
        "print(f\"used to reverse the string {s[::-1]}\")\n",
        "s = s.replace('m','b')\n",
        "s.capitalize()\n",
        "\n",
        "print(s)\n",
        "s.lower()\n",
        "\n",
        "s.upper()\n",
        "print(s)\n",
        "\n",
        "s = s.swapcase() #swapcase is default funciton for making small charcter to big and big to small\n",
        "\n",
        "#strip is used to remove the leading and trailing whitespace \n",
        "# u = input().lstrip().rstrip()\n",
        "# u = input().strip()\n",
        "x = 'haiiiii                i  i          i'.strip()\n",
        "#s.strip() is essentially equivalent to invoking s.lstrip() and s.rstrip() \n",
        "u = u.strip()\n",
        "print(u)"
      ],
      "metadata": {
        "colab": {
          "base_uri": "https://localhost:8080/"
        },
        "id": "0P3BvthOxJIZ",
        "outputId": "b602508d-d15f-42a1-bc10-f3c6005df11c"
      },
      "execution_count": null,
      "outputs": [
        {
          "output_type": "stream",
          "name": "stdout",
          "text": [
            "17\n",
            "hai Namaste babai\n",
            "e\n",
            "yes here : is used  example \n",
            "usign :: is eme\n",
            "used to reverse the string elpmaxe\n",
            "exabple\n",
            "exabple\n",
            "haiiii\n"
          ]
        }
      ]
    },
    {
      "cell_type": "code",
      "source": [
        "#split lines\n",
        "'hai.ra.haawla'.split('.')\n",
        "# 'hai.ra.haawla'.split('.', maxsplit=1)"
      ],
      "metadata": {
        "colab": {
          "base_uri": "https://localhost:8080/"
        },
        "id": "kvPiZYw0yUHK",
        "outputId": "643ff4d8-4618-4d80-d31c-df9c01a357b7"
      },
      "execution_count": null,
      "outputs": [
        {
          "output_type": "execute_result",
          "data": {
            "text/plain": [
              "['hai', 'ra.haawla']"
            ]
          },
          "metadata": {},
          "execution_count": 48
        }
      ]
    },
    {
      "cell_type": "code",
      "source": [
        "def swap_case(s):\n",
        "    # s = s.upper().lower()\n",
        "\n",
        "    return s.swapcase()\n",
        "    print(s)\n",
        "    \n",
        "\n",
        "if __name__ == '__main__':\n",
        "    s = input()\n",
        "    result = swap_case(s)\n",
        "    print(result)"
      ],
      "metadata": {
        "id": "YgMFJ2308MfO",
        "colab": {
          "base_uri": "https://localhost:8080/"
        },
        "outputId": "a089499f-fddd-49c6-fb04-61eff8d453d5"
      },
      "execution_count": null,
      "outputs": [
        {
          "output_type": "stream",
          "name": "stdout",
          "text": [
            "HGFJDKDddd\n",
            "hgfjdkdDDD\n"
          ]
        }
      ]
    },
    {
      "cell_type": "code",
      "source": [
        "#if the list contains the duplicate number \n",
        "nums = list(input())\n",
        "\n",
        "def duplicate(nums):\n",
        "  return len(set(nums)) != len(nums) #here set makes unique out of nums list and compare with normal length if it is not equal then false or true other case"
      ],
      "metadata": {
        "colab": {
          "base_uri": "https://localhost:8080/",
          "height": 281
        },
        "id": "fUxsAHT6V7RR",
        "outputId": "a24ed703-5ebb-44ae-de88-23e6b75f2186"
      },
      "execution_count": null,
      "outputs": [
        {
          "name": "stdout",
          "output_type": "stream",
          "text": [
            "1 2 3 2\n"
          ]
        },
        {
          "output_type": "error",
          "ename": "AttributeError",
          "evalue": "ignored",
          "traceback": [
            "\u001b[0;31m---------------------------------------------------------------------------\u001b[0m",
            "\u001b[0;31mAttributeError\u001b[0m                            Traceback (most recent call last)",
            "\u001b[0;32m<ipython-input-4-41218f0d9812>\u001b[0m in \u001b[0;36m<module>\u001b[0;34m\u001b[0m\n\u001b[1;32m      1\u001b[0m \u001b[0;31m#if the list contains the duplicate number\u001b[0m\u001b[0;34m\u001b[0m\u001b[0;34m\u001b[0m\u001b[0;34m\u001b[0m\u001b[0m\n\u001b[1;32m      2\u001b[0m \u001b[0mnums\u001b[0m \u001b[0;34m=\u001b[0m \u001b[0mlist\u001b[0m\u001b[0;34m(\u001b[0m\u001b[0minput\u001b[0m\u001b[0;34m(\u001b[0m\u001b[0;34m)\u001b[0m\u001b[0;34m)\u001b[0m\u001b[0;34m\u001b[0m\u001b[0;34m\u001b[0m\u001b[0m\n\u001b[0;32m----> 3\u001b[0;31m \u001b[0mnums\u001b[0m\u001b[0;34m.\u001b[0m\u001b[0msplit\u001b[0m\u001b[0;34m(\u001b[0m\u001b[0;34m','\u001b[0m\u001b[0;34m)\u001b[0m\u001b[0;34m\u001b[0m\u001b[0;34m\u001b[0m\u001b[0m\n\u001b[0m\u001b[1;32m      4\u001b[0m \u001b[0;32mdef\u001b[0m \u001b[0mduplicate\u001b[0m\u001b[0;34m(\u001b[0m\u001b[0mnums\u001b[0m\u001b[0;34m)\u001b[0m\u001b[0;34m:\u001b[0m\u001b[0;34m\u001b[0m\u001b[0;34m\u001b[0m\u001b[0m\n\u001b[1;32m      5\u001b[0m   \u001b[0;32mreturn\u001b[0m \u001b[0mlen\u001b[0m\u001b[0;34m(\u001b[0m\u001b[0mset\u001b[0m\u001b[0;34m(\u001b[0m\u001b[0mnums\u001b[0m\u001b[0;34m)\u001b[0m\u001b[0;34m)\u001b[0m \u001b[0;34m!=\u001b[0m \u001b[0mlen\u001b[0m\u001b[0;34m(\u001b[0m\u001b[0mnums\u001b[0m\u001b[0;34m)\u001b[0m \u001b[0;31m#here set makes unique out of nums list and compare with normal length if it is not equal then false or true other case\u001b[0m\u001b[0;34m\u001b[0m\u001b[0;34m\u001b[0m\u001b[0m\n",
            "\u001b[0;31mAttributeError\u001b[0m: 'list' object has no attribute 'split'"
          ]
        }
      ]
    },
    {
      "cell_type": "code",
      "source": [
        "\n"
      ],
      "metadata": {
        "id": "DJgN_2gT_vBo"
      },
      "execution_count": null,
      "outputs": []
    },
    {
      "cell_type": "code",
      "source": [
        "class Solution :\n",
        "  List = [3,7,4,8,9]\n",
        "  def maxarea(self,height: List[int])-> int:\n",
        "    maxarea = 0\n",
        "    left =0\n",
        "    right =len(height)-1\n",
        "\n",
        "    while left<= right:\n",
        "      maxarea = max(maxarea, min)\n"
      ],
      "metadata": {
        "colab": {
          "base_uri": "https://localhost:8080/",
          "height": 135
        },
        "id": "4uSFd8xvDJ0I",
        "outputId": "edbd6dce-9713-4bf0-b6b4-446b0815c142"
      },
      "execution_count": null,
      "outputs": [
        {
          "output_type": "error",
          "ename": "SyntaxError",
          "evalue": "ignored",
          "traceback": [
            "\u001b[0;36m  File \u001b[0;32m\"<ipython-input-22-0e691d33af73>\"\u001b[0;36m, line \u001b[0;32m4\u001b[0m\n\u001b[0;31m    return max(num2)\u001b[0m\n\u001b[0m                    ^\u001b[0m\n\u001b[0;31mSyntaxError\u001b[0m\u001b[0;31m:\u001b[0m 'return' outside function\n"
          ]
        }
      ]
    },
    {
      "cell_type": "code",
      "source": [
        "cl"
      ],
      "metadata": {
        "id": "wrGHy_Q9D34Y"
      },
      "execution_count": null,
      "outputs": []
    }
  ],
  "metadata": {
    "colab": {
      "provenance": []
    },
    "kernelspec": {
      "display_name": "Python 3",
      "name": "python3"
    },
    "language_info": {
      "name": "python"
    }
  },
  "nbformat": 4,
  "nbformat_minor": 0
}